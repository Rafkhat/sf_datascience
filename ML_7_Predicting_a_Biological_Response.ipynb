{
  "cells": [
    {
      "cell_type": "markdown",
      "metadata": {},
      "source": [
        "## ML-7. Прогнозирование биологического ответа (HW-3)"
      ]
    },
    {
      "cell_type": "markdown",
      "metadata": {
        "id": "DesCyA7iXdoS"
      },
      "source": [
        "### 4. Практика\n",
        "#### Практика основана на соревновании Kaggle: Predicting a Biological Response (Прогнозирование биологического ответа).\n",
        "#### Необходимо предсказать биологический ответ молекул (столбец 'Activity') по их химическому составу (столбцы D1-D1776).\n",
        "#### Каждая строка представляет молекулу. \n",
        "\n",
        "- Первый столбец Activity содержит экспериментальные данные, описывающие фактический биологический ответ [0, 1]; \n",
        "\n",
        "- Остальные столбцы D1-D1776 представляют собой молекулярные дескрипторы — это вычисляемые свойства, которые могут фиксировать некоторые характеристики молекулы, например размер, форму или состав элементов.\n",
        "\n",
        "#### Предварительная обработка не требуется, данные уже закодированы и нормализованы.\n",
        "#### В качестве метрики будем использовать F1-score.\n",
        "#### Необходимо обучить две модели: **логистическую регрессию** и **случайный лес**. \n",
        "#### Далее нужно сделать *подбор гиперпараметров* с помощью базовых и продвинутых методов оптимизации. Важно использовать все четыре метода (**GridSeachCV**, **RandomizedSearchCV**, **Hyperopt**, **Optuna**) хотя бы по одному разу. \n",
        "#### **Максимальное количество итераций не должно превышать 50**."
      ]
    },
    {
      "cell_type": "code",
      "execution_count": 1,
      "metadata": {
        "id": "IpRZZ77wVamR"
      },
      "outputs": [],
      "source": [
        "#импорт библиотек\n",
        "import numpy as np #для матричных вычислений\n",
        "import pandas as pd #для анализа и предобработки данных\n",
        "import matplotlib.pyplot as plt #для визуализации\n",
        "import seaborn as sns #для визуализации\n",
        "\n",
        "from sklearn import linear_model #линейные модели\n",
        "from sklearn import tree #деревья решений\n",
        "from sklearn import ensemble #ансамбли\n",
        "from sklearn import metrics #метрики\n",
        "from sklearn import preprocessing #предобработка\n",
        "from sklearn.model_selection import train_test_split #сплитование выборки\n",
        "\n",
        "%matplotlib inline\n",
        "plt.style.use('seaborn')"
      ]
    },
    {
      "cell_type": "code",
      "execution_count": 2,
      "metadata": {
        "colab": {
          "base_uri": "https://localhost:8080/",
          "height": 317
        },
        "id": "VhS_hoy2ajuT",
        "outputId": "64b51882-2e28-4bcf-a8a2-dfb533aec9fe"
      },
      "outputs": [
        {
          "name": "stdout",
          "output_type": "stream",
          "text": [
            "Mounted at /content/drive\n"
          ]
        },
        {
          "data": {
            "text/html": [
              "\n",
              "  <div id=\"df-c00f3862-742f-4e0c-bf90-db7dbfde09d3\">\n",
              "    <div class=\"colab-df-container\">\n",
              "      <div>\n",
              "<style scoped>\n",
              "    .dataframe tbody tr th:only-of-type {\n",
              "        vertical-align: middle;\n",
              "    }\n",
              "\n",
              "    .dataframe tbody tr th {\n",
              "        vertical-align: top;\n",
              "    }\n",
              "\n",
              "    .dataframe thead th {\n",
              "        text-align: right;\n",
              "    }\n",
              "</style>\n",
              "<table border=\"1\" class=\"dataframe\">\n",
              "  <thead>\n",
              "    <tr style=\"text-align: right;\">\n",
              "      <th></th>\n",
              "      <th>Activity</th>\n",
              "      <th>D1</th>\n",
              "      <th>D2</th>\n",
              "      <th>D3</th>\n",
              "      <th>D4</th>\n",
              "      <th>D5</th>\n",
              "      <th>D6</th>\n",
              "      <th>D7</th>\n",
              "      <th>D8</th>\n",
              "      <th>D9</th>\n",
              "      <th>...</th>\n",
              "      <th>D1767</th>\n",
              "      <th>D1768</th>\n",
              "      <th>D1769</th>\n",
              "      <th>D1770</th>\n",
              "      <th>D1771</th>\n",
              "      <th>D1772</th>\n",
              "      <th>D1773</th>\n",
              "      <th>D1774</th>\n",
              "      <th>D1775</th>\n",
              "      <th>D1776</th>\n",
              "    </tr>\n",
              "  </thead>\n",
              "  <tbody>\n",
              "    <tr>\n",
              "      <th>0</th>\n",
              "      <td>1</td>\n",
              "      <td>0.000000</td>\n",
              "      <td>0.497009</td>\n",
              "      <td>0.10</td>\n",
              "      <td>0.0</td>\n",
              "      <td>0.132956</td>\n",
              "      <td>0.678031</td>\n",
              "      <td>0.273166</td>\n",
              "      <td>0.585445</td>\n",
              "      <td>0.743663</td>\n",
              "      <td>...</td>\n",
              "      <td>0</td>\n",
              "      <td>0</td>\n",
              "      <td>0</td>\n",
              "      <td>0</td>\n",
              "      <td>0</td>\n",
              "      <td>0</td>\n",
              "      <td>0</td>\n",
              "      <td>0</td>\n",
              "      <td>0</td>\n",
              "      <td>0</td>\n",
              "    </tr>\n",
              "    <tr>\n",
              "      <th>1</th>\n",
              "      <td>1</td>\n",
              "      <td>0.366667</td>\n",
              "      <td>0.606291</td>\n",
              "      <td>0.05</td>\n",
              "      <td>0.0</td>\n",
              "      <td>0.111209</td>\n",
              "      <td>0.803455</td>\n",
              "      <td>0.106105</td>\n",
              "      <td>0.411754</td>\n",
              "      <td>0.836582</td>\n",
              "      <td>...</td>\n",
              "      <td>1</td>\n",
              "      <td>1</td>\n",
              "      <td>1</td>\n",
              "      <td>1</td>\n",
              "      <td>0</td>\n",
              "      <td>1</td>\n",
              "      <td>0</td>\n",
              "      <td>0</td>\n",
              "      <td>1</td>\n",
              "      <td>0</td>\n",
              "    </tr>\n",
              "    <tr>\n",
              "      <th>2</th>\n",
              "      <td>1</td>\n",
              "      <td>0.033300</td>\n",
              "      <td>0.480124</td>\n",
              "      <td>0.00</td>\n",
              "      <td>0.0</td>\n",
              "      <td>0.209791</td>\n",
              "      <td>0.610350</td>\n",
              "      <td>0.356453</td>\n",
              "      <td>0.517720</td>\n",
              "      <td>0.679051</td>\n",
              "      <td>...</td>\n",
              "      <td>0</td>\n",
              "      <td>0</td>\n",
              "      <td>0</td>\n",
              "      <td>0</td>\n",
              "      <td>0</td>\n",
              "      <td>0</td>\n",
              "      <td>0</td>\n",
              "      <td>0</td>\n",
              "      <td>0</td>\n",
              "      <td>0</td>\n",
              "    </tr>\n",
              "    <tr>\n",
              "      <th>3</th>\n",
              "      <td>1</td>\n",
              "      <td>0.000000</td>\n",
              "      <td>0.538825</td>\n",
              "      <td>0.00</td>\n",
              "      <td>0.5</td>\n",
              "      <td>0.196344</td>\n",
              "      <td>0.724230</td>\n",
              "      <td>0.235606</td>\n",
              "      <td>0.288764</td>\n",
              "      <td>0.805110</td>\n",
              "      <td>...</td>\n",
              "      <td>0</td>\n",
              "      <td>0</td>\n",
              "      <td>0</td>\n",
              "      <td>0</td>\n",
              "      <td>0</td>\n",
              "      <td>0</td>\n",
              "      <td>0</td>\n",
              "      <td>0</td>\n",
              "      <td>0</td>\n",
              "      <td>0</td>\n",
              "    </tr>\n",
              "    <tr>\n",
              "      <th>4</th>\n",
              "      <td>0</td>\n",
              "      <td>0.100000</td>\n",
              "      <td>0.517794</td>\n",
              "      <td>0.00</td>\n",
              "      <td>0.0</td>\n",
              "      <td>0.494734</td>\n",
              "      <td>0.781422</td>\n",
              "      <td>0.154361</td>\n",
              "      <td>0.303809</td>\n",
              "      <td>0.812646</td>\n",
              "      <td>...</td>\n",
              "      <td>0</td>\n",
              "      <td>0</td>\n",
              "      <td>0</td>\n",
              "      <td>0</td>\n",
              "      <td>0</td>\n",
              "      <td>0</td>\n",
              "      <td>0</td>\n",
              "      <td>0</td>\n",
              "      <td>0</td>\n",
              "      <td>0</td>\n",
              "    </tr>\n",
              "  </tbody>\n",
              "</table>\n",
              "<p>5 rows × 1777 columns</p>\n",
              "</div>\n",
              "      <button class=\"colab-df-convert\" onclick=\"convertToInteractive('df-c00f3862-742f-4e0c-bf90-db7dbfde09d3')\"\n",
              "              title=\"Convert this dataframe to an interactive table.\"\n",
              "              style=\"display:none;\">\n",
              "        \n",
              "  <svg xmlns=\"http://www.w3.org/2000/svg\" height=\"24px\"viewBox=\"0 0 24 24\"\n",
              "       width=\"24px\">\n",
              "    <path d=\"M0 0h24v24H0V0z\" fill=\"none\"/>\n",
              "    <path d=\"M18.56 5.44l.94 2.06.94-2.06 2.06-.94-2.06-.94-.94-2.06-.94 2.06-2.06.94zm-11 1L8.5 8.5l.94-2.06 2.06-.94-2.06-.94L8.5 2.5l-.94 2.06-2.06.94zm10 10l.94 2.06.94-2.06 2.06-.94-2.06-.94-.94-2.06-.94 2.06-2.06.94z\"/><path d=\"M17.41 7.96l-1.37-1.37c-.4-.4-.92-.59-1.43-.59-.52 0-1.04.2-1.43.59L10.3 9.45l-7.72 7.72c-.78.78-.78 2.05 0 2.83L4 21.41c.39.39.9.59 1.41.59.51 0 1.02-.2 1.41-.59l7.78-7.78 2.81-2.81c.8-.78.8-2.07 0-2.86zM5.41 20L4 18.59l7.72-7.72 1.47 1.35L5.41 20z\"/>\n",
              "  </svg>\n",
              "      </button>\n",
              "      \n",
              "  <style>\n",
              "    .colab-df-container {\n",
              "      display:flex;\n",
              "      flex-wrap:wrap;\n",
              "      gap: 12px;\n",
              "    }\n",
              "\n",
              "    .colab-df-convert {\n",
              "      background-color: #E8F0FE;\n",
              "      border: none;\n",
              "      border-radius: 50%;\n",
              "      cursor: pointer;\n",
              "      display: none;\n",
              "      fill: #1967D2;\n",
              "      height: 32px;\n",
              "      padding: 0 0 0 0;\n",
              "      width: 32px;\n",
              "    }\n",
              "\n",
              "    .colab-df-convert:hover {\n",
              "      background-color: #E2EBFA;\n",
              "      box-shadow: 0px 1px 2px rgba(60, 64, 67, 0.3), 0px 1px 3px 1px rgba(60, 64, 67, 0.15);\n",
              "      fill: #174EA6;\n",
              "    }\n",
              "\n",
              "    [theme=dark] .colab-df-convert {\n",
              "      background-color: #3B4455;\n",
              "      fill: #D2E3FC;\n",
              "    }\n",
              "\n",
              "    [theme=dark] .colab-df-convert:hover {\n",
              "      background-color: #434B5C;\n",
              "      box-shadow: 0px 1px 3px 1px rgba(0, 0, 0, 0.15);\n",
              "      filter: drop-shadow(0px 1px 2px rgba(0, 0, 0, 0.3));\n",
              "      fill: #FFFFFF;\n",
              "    }\n",
              "  </style>\n",
              "\n",
              "      <script>\n",
              "        const buttonEl =\n",
              "          document.querySelector('#df-c00f3862-742f-4e0c-bf90-db7dbfde09d3 button.colab-df-convert');\n",
              "        buttonEl.style.display =\n",
              "          google.colab.kernel.accessAllowed ? 'block' : 'none';\n",
              "\n",
              "        async function convertToInteractive(key) {\n",
              "          const element = document.querySelector('#df-c00f3862-742f-4e0c-bf90-db7dbfde09d3');\n",
              "          const dataTable =\n",
              "            await google.colab.kernel.invokeFunction('convertToInteractive',\n",
              "                                                     [key], {});\n",
              "          if (!dataTable) return;\n",
              "\n",
              "          const docLinkHtml = 'Like what you see? Visit the ' +\n",
              "            '<a target=\"_blank\" href=https://colab.research.google.com/notebooks/data_table.ipynb>data table notebook</a>'\n",
              "            + ' to learn more about interactive tables.';\n",
              "          element.innerHTML = '';\n",
              "          dataTable['output_type'] = 'display_data';\n",
              "          await google.colab.output.renderOutput(dataTable, element);\n",
              "          const docLink = document.createElement('div');\n",
              "          docLink.innerHTML = docLinkHtml;\n",
              "          element.appendChild(docLink);\n",
              "        }\n",
              "      </script>\n",
              "    </div>\n",
              "  </div>\n",
              "  "
            ],
            "text/plain": [
              "   Activity        D1        D2    D3   D4        D5        D6        D7  \\\n",
              "0         1  0.000000  0.497009  0.10  0.0  0.132956  0.678031  0.273166   \n",
              "1         1  0.366667  0.606291  0.05  0.0  0.111209  0.803455  0.106105   \n",
              "2         1  0.033300  0.480124  0.00  0.0  0.209791  0.610350  0.356453   \n",
              "3         1  0.000000  0.538825  0.00  0.5  0.196344  0.724230  0.235606   \n",
              "4         0  0.100000  0.517794  0.00  0.0  0.494734  0.781422  0.154361   \n",
              "\n",
              "         D8        D9  ...  D1767  D1768  D1769  D1770  D1771  D1772  D1773  \\\n",
              "0  0.585445  0.743663  ...      0      0      0      0      0      0      0   \n",
              "1  0.411754  0.836582  ...      1      1      1      1      0      1      0   \n",
              "2  0.517720  0.679051  ...      0      0      0      0      0      0      0   \n",
              "3  0.288764  0.805110  ...      0      0      0      0      0      0      0   \n",
              "4  0.303809  0.812646  ...      0      0      0      0      0      0      0   \n",
              "\n",
              "   D1774  D1775  D1776  \n",
              "0      0      0      0  \n",
              "1      0      1      0  \n",
              "2      0      0      0  \n",
              "3      0      0      0  \n",
              "4      0      0      0  \n",
              "\n",
              "[5 rows x 1777 columns]"
            ]
          },
          "execution_count": 2,
          "metadata": {},
          "output_type": "execute_result"
        }
      ],
      "source": [
        "# подключаем google диск, где хранятся данные\n",
        "from google.colab import drive\n",
        "drive.mount('/content/drive')\n",
        "\n",
        "# берем необходимый файл с диска, указав путь\n",
        "data = pd.read_csv('./drive/MyDrive/SF/train_molecular.csv')\n",
        "data.head()"
      ]
    },
    {
      "cell_type": "markdown",
      "metadata": {
        "id": "YbTBXp7odED4"
      },
      "source": [
        "## 1. Логистическая регрессия\n",
        "#### Создаем матрицу наблюдений **X** и вектор ответов **y**"
      ]
    },
    {
      "cell_type": "code",
      "execution_count": 3,
      "metadata": {
        "id": "ccEjs8R4diPG"
      },
      "outputs": [],
      "source": [
        "X = data.drop(['Activity'], axis=1)\n",
        "y = data['Activity']"
      ]
    },
    {
      "cell_type": "markdown",
      "metadata": {
        "id": "CyT1b-7WfEfq"
      },
      "source": [
        "#### Разделяем выборку на *тренировочную* и *тестовую* в соотношении **80/20**. Для сохранения соотношений целевого признака используем параметр **stratify** (стратифицированное разбиение)."
      ]
    },
    {
      "cell_type": "code",
      "execution_count": 4,
      "metadata": {
        "id": "qoXEOnTsfZQc"
      },
      "outputs": [],
      "source": [
        "X_train, X_test, y_train, y_test = train_test_split(X, y, stratify=y, random_state = 1, test_size = 0.2)"
      ]
    },
    {
      "cell_type": "markdown",
      "metadata": {
        "id": "WAHavULImzLu"
      },
      "source": [
        "#### Зафиксируем метрики со значениями гиперпараметров, установленных по умолчанию:"
      ]
    },
    {
      "cell_type": "code",
      "execution_count": 5,
      "metadata": {
        "colab": {
          "base_uri": "https://localhost:8080/"
        },
        "id": "k1-ZeD2Cf5rv",
        "outputId": "d7e75ed6-c5cb-4028-a65e-1c93271503b6"
      },
      "outputs": [
        {
          "name": "stdout",
          "output_type": "stream",
          "text": [
            "f1_score на тестовом наборе: 0.78\n"
          ]
        }
      ],
      "source": [
        "#Создаем объект класса логистическая регрессия\n",
        "log_reg = linear_model.LogisticRegression(max_iter = 1000)\n",
        "#Обучаем модель, минимизируя logloss\n",
        "log_reg.fit(X_train, y_train)\n",
        "\n",
        "y_test_pred = log_reg.predict(X_test)\n",
        "print('f1_score на тестовом наборе: {:.2f}'.format(metrics.f1_score(y_test, y_test_pred)))"
      ]
    },
    {
      "cell_type": "markdown",
      "metadata": {
        "id": "U_cVcFFSjIR3"
      },
      "source": [
        "## 1.1 GridSearchCV"
      ]
    },
    {
      "cell_type": "code",
      "execution_count": 6,
      "metadata": {
        "colab": {
          "base_uri": "https://localhost:8080/"
        },
        "id": "3IOtEd66jX3V",
        "outputId": "53373799-06b0-47be-8e8f-817627c0760d"
      },
      "outputs": [
        {
          "name": "stdout",
          "output_type": "stream",
          "text": [
            "CPU times: user 3.83 s, sys: 86.6 ms, total: 3.91 s\n",
            "Wall time: 32.2 s\n",
            "f1_score на тестовом наборе: 0.78\n",
            "Наилучшие значения гиперпараметров: {'penalty': 'l2', 'solver': 'saga'}\n"
          ]
        },
        {
          "name": "stderr",
          "output_type": "stream",
          "text": [
            "/usr/local/lib/python3.7/dist-packages/sklearn/linear_model/_sag.py:354: ConvergenceWarning: The max_iter was reached which means the coef_ did not converge\n",
            "  ConvergenceWarning,\n"
          ]
        }
      ],
      "source": [
        "from sklearn.model_selection import GridSearchCV\n",
        "\n",
        "param_grid = {'penalty': ['l2', 'none'] ,#тип регурялизации\n",
        "              'solver': ['lbfgs', 'saga'], #алгоритм оптимизации\n",
        "              }\n",
        "grid_search = GridSearchCV(\n",
        "    estimator=linear_model.LogisticRegression(\n",
        "        random_state=42, #генератор случайных чисел\n",
        "        max_iter=50 #количество итераций на сходимость\n",
        "    ), \n",
        "    param_grid=param_grid, \n",
        "    cv=5, \n",
        "    n_jobs = -1\n",
        ")  \n",
        "%time grid_search.fit(X_train, y_train) \n",
        "print('f1_score на тестовом наборе: {:.2f}'.format(metrics.f1_score(y_test, y_test_pred)))\n",
        "print(\"Наилучшие значения гиперпараметров: {}\".format(grid_search.best_params_))"
      ]
    },
    {
      "cell_type": "markdown",
      "metadata": {
        "id": "TMEO2SMdl5Ue"
      },
      "source": [
        "#### Значение метрики не изменилось, это значит, что мы не нашли комбинацию внешних параметров лучше, чем заданы по умолчанию.\n",
        "#### Попробуем расширить сетку гиперпараметров:"
      ]
    },
    {
      "cell_type": "code",
      "execution_count": 7,
      "metadata": {
        "colab": {
          "base_uri": "https://localhost:8080/"
        },
        "id": "KLLBI6AbnwHl",
        "outputId": "da02089b-a9b1-43e8-90df-a604505becd1"
      },
      "outputs": [
        {
          "name": "stdout",
          "output_type": "stream",
          "text": [
            "CPU times: user 3.92 s, sys: 348 ms, total: 4.27 s\n",
            "Wall time: 6min 21s\n",
            "f1_score на тестовом наборе: 0.79\n",
            "Наилучшие значения гиперпараметров: {'C': 0.1, 'penalty': 'l2', 'solver': 'lbfgs'}\n"
          ]
        },
        {
          "name": "stderr",
          "output_type": "stream",
          "text": [
            "/usr/local/lib/python3.7/dist-packages/sklearn/linear_model/_logistic.py:818: ConvergenceWarning: lbfgs failed to converge (status=1):\n",
            "STOP: TOTAL NO. of ITERATIONS REACHED LIMIT.\n",
            "\n",
            "Increase the number of iterations (max_iter) or scale the data as shown in:\n",
            "    https://scikit-learn.org/stable/modules/preprocessing.html\n",
            "Please also refer to the documentation for alternative solver options:\n",
            "    https://scikit-learn.org/stable/modules/linear_model.html#logistic-regression\n",
            "  extra_warning_msg=_LOGISTIC_SOLVER_CONVERGENCE_MSG,\n"
          ]
        }
      ],
      "source": [
        "param_grid = [\n",
        "              {'penalty': ['l2', 'none'] , # тип регуляризации\n",
        "              'solver': ['lbfgs', 'sag'], # алгоритм оптимизации\n",
        "               'C': [0.01, 0.1, 0.3, 0.5, 0.7, 0.9, 1]}, # уровень силы регурялизации\n",
        "              \n",
        "              {'penalty': ['l1', 'l2'] ,\n",
        "              'solver': ['liblinear', 'saga'],\n",
        "               'C': [0.01, 0.1, 0.3, 0.5, 0.7, 0.9, 1]}\n",
        "]\n",
        "grid_search_1 = GridSearchCV(\n",
        "    estimator=linear_model.LogisticRegression(random_state=1, max_iter=50), \n",
        "    param_grid=param_grid, \n",
        "    cv=5, \n",
        "    n_jobs = -1\n",
        ")  \n",
        "%time grid_search_1.fit(X_train, y_train) \n",
        "y_test_pred = grid_search_1.predict(X_test)\n",
        "print('f1_score на тестовом наборе: {:.2f}'.format(metrics.f1_score(y_test, y_test_pred)))\n",
        "print(\"Наилучшие значения гиперпараметров: {}\".format(grid_search_1.best_params_))"
      ]
    },
    {
      "cell_type": "markdown",
      "metadata": {
        "id": "Gl_pS_dDqdK9"
      },
      "source": [
        "#### Метрика незначительно улучшилась, но времени ушло гораздо больше.\n",
        "#### Ознакомимся с итоговой полученной моделью с помощью best_estimator_: "
      ]
    },
    {
      "cell_type": "code",
      "execution_count": 8,
      "metadata": {
        "colab": {
          "base_uri": "https://localhost:8080/"
        },
        "id": "boRApXZXrM2H",
        "outputId": "38af2a53-e4bf-455d-b896-4a205be39e94"
      },
      "outputs": [
        {
          "name": "stdout",
          "output_type": "stream",
          "text": [
            "Наилучшая модель:\n",
            "LogisticRegression(max_iter=50, random_state=42, solver='saga')\n"
          ]
        }
      ],
      "source": [
        "print(\"Наилучшая модель:\\n{}\".format(grid_search.best_estimator_))"
      ]
    },
    {
      "cell_type": "markdown",
      "metadata": {
        "id": "gSeBdXE2rWbi"
      },
      "source": [
        "#### Посмотрим на наилучшее значение точности кросс-валидации (значение точности, усредненное по всем разбиениям для данной комбинации гиперпараметров) – в атрибуте best_score_: "
      ]
    },
    {
      "cell_type": "code",
      "execution_count": 9,
      "metadata": {
        "colab": {
          "base_uri": "https://localhost:8080/"
        },
        "id": "_GGMJt4gr68V",
        "outputId": "62108bcc-1fed-496a-bf16-b9f26ce47ada"
      },
      "outputs": [
        {
          "name": "stdout",
          "output_type": "stream",
          "text": [
            "Наилучшее значение точности при кросс-валидации: 0.76\n"
          ]
        }
      ],
      "source": [
        "print(\"Наилучшее значение точности при кросс-валидации: {:.2f}\".format(grid_search.best_score_))"
      ]
    },
    {
      "cell_type": "markdown",
      "metadata": {
        "id": "AvmGVeF1tPSS"
      },
      "source": [
        "## 1.2 RandomizedSearchCV"
      ]
    },
    {
      "cell_type": "code",
      "execution_count": 10,
      "metadata": {
        "colab": {
          "base_uri": "https://localhost:8080/"
        },
        "id": "En0ssbgotjP8",
        "outputId": "cb2af2d5-1327-4459-b048-eabcdb3ad72e"
      },
      "outputs": [
        {
          "name": "stdout",
          "output_type": "stream",
          "text": [
            "CPU times: user 3.52 s, sys: 120 ms, total: 3.64 s\n",
            "Wall time: 1min 18s\n",
            "f1_score на тестовом наборе: 0.78\n",
            "Наилучшие значения гиперпараметров: {'solver': 'sag', 'penalty': 'l2', 'C': 0.23}\n"
          ]
        },
        {
          "name": "stderr",
          "output_type": "stream",
          "text": [
            "/usr/local/lib/python3.7/dist-packages/sklearn/linear_model/_sag.py:354: ConvergenceWarning: The max_iter was reached which means the coef_ did not converge\n",
            "  ConvergenceWarning,\n"
          ]
        }
      ],
      "source": [
        "from sklearn.model_selection import RandomizedSearchCV\n",
        "\n",
        "#np.linspace(start(от), stop(до), num=50(количество),dtype- тип данных)\n",
        "param_grid = {'penalty': ['l2', 'none'] ,\n",
        "              'solver': ['lbfgs', 'sag'],\n",
        "               'C': list(np.linspace(0.01, 1, 10, dtype=float))},\n",
        "            \n",
        "random_search = RandomizedSearchCV(\n",
        "    estimator=linear_model.LogisticRegression(random_state=42, max_iter=50), \n",
        "    param_distributions=param_grid, \n",
        "    cv=5, \n",
        "    n_iter = 10, \n",
        "    n_jobs = -1\n",
        ")  \n",
        "%time random_search.fit(X_train, y_train) \n",
        "y_test_pred = random_search.predict(X_test)\n",
        "print('f1_score на тестовом наборе: {:.2f}'.format(metrics.f1_score(y_test, y_test_pred)))\n",
        "print(\"Наилучшие значения гиперпараметров: {}\".format(random_search.best_params_))"
      ]
    },
    {
      "cell_type": "markdown",
      "metadata": {
        "id": "H-TYCz_ovB9T"
      },
      "source": [
        "#### За 10 итераций метрику улучшить не удалось, но время уменьшилось в 6 раз. Зададим аналогичную сетку и проделаем тоже с помощью GridSearchCV и сравним:"
      ]
    },
    {
      "cell_type": "code",
      "execution_count": 11,
      "metadata": {
        "colab": {
          "base_uri": "https://localhost:8080/"
        },
        "id": "qzkU-jcmv8IS",
        "outputId": "9ea0cc20-17fd-4d75-86a0-ece70db1a1f6"
      },
      "outputs": [
        {
          "name": "stdout",
          "output_type": "stream",
          "text": [
            "CPU times: user 5 s, sys: 260 ms, total: 5.26 s\n",
            "Wall time: 3min 47s\n",
            "f1_score на тестовом наборе: 0.79\n",
            "Наилучшие значения гиперпараметров: {'C': 0.12, 'penalty': 'l2', 'solver': 'sag'}\n"
          ]
        },
        {
          "name": "stderr",
          "output_type": "stream",
          "text": [
            "/usr/local/lib/python3.7/dist-packages/sklearn/linear_model/_sag.py:354: ConvergenceWarning: The max_iter was reached which means the coef_ did not converge\n",
            "  ConvergenceWarning,\n"
          ]
        }
      ],
      "source": [
        "param_grid = {'penalty': ['l2', 'none'] ,\n",
        "              'solver': ['lbfgs', 'sag'],\n",
        "               'C': list(np.linspace(0.01, 1, 10, dtype=float))},\n",
        "            \n",
        "grid_search_2 = GridSearchCV(\n",
        "    estimator=linear_model.LogisticRegression(random_state=42, max_iter=50), \n",
        "    param_grid=param_grid, \n",
        "    cv=5, \n",
        "    n_jobs = -1\n",
        ")  \n",
        "%time grid_search_2.fit(X_train, y_train) \n",
        "y_test_pred = grid_search_2.predict(X_test)\n",
        "print('f1_score на тестовом наборе: {:.2f}'.format(metrics.f1_score(y_test, y_test_pred)))\n",
        "print(\"Наилучшие значения гиперпараметров: {}\".format(grid_search_2.best_params_))"
      ]
    },
    {
      "cell_type": "markdown",
      "metadata": {
        "id": "AEaBGQ4h1-np"
      },
      "source": [
        "#### Время увеличилось более, чем в 3 раза! Метрики не изменились\n",
        "## 1.3 Hyperopt\n",
        "#### Продвинутая оптимизация не получилась, так как не было образца"
      ]
    },
    {
      "cell_type": "code",
      "execution_count": 1,
      "metadata": {},
      "outputs": [
        {
          "name": "stdout",
          "output_type": "stream",
          "text": [
            "Collecting hyperopt\n",
            "  Downloading hyperopt-0.2.7-py2.py3-none-any.whl (1.6 MB)\n",
            "\u001b[K     |████████████████████████████████| 1.6 MB 816 kB/s eta 0:00:01     |█████████████████               | 839 kB 816 kB/s eta 0:00:01\n",
            "\u001b[?25hRequirement already satisfied: numpy in /home/raf/anaconda3/lib/python3.8/site-packages (from hyperopt) (1.20.1)\n",
            "Requirement already satisfied: cloudpickle in /home/raf/anaconda3/lib/python3.8/site-packages (from hyperopt) (1.6.0)\n",
            "Requirement already satisfied: networkx>=2.2 in /home/raf/anaconda3/lib/python3.8/site-packages (from hyperopt) (2.5)\n",
            "Requirement already satisfied: six in /home/raf/.local/lib/python3.8/site-packages (from hyperopt) (1.16.0)\n",
            "Collecting py4j\n",
            "  Downloading py4j-0.10.9.5-py2.py3-none-any.whl (199 kB)\n",
            "\u001b[K     |████████████████████████████████| 199 kB 16.5 MB/s eta 0:00:01\n",
            "\u001b[?25hRequirement already satisfied: scipy in /home/raf/anaconda3/lib/python3.8/site-packages (from hyperopt) (1.6.2)\n",
            "Requirement already satisfied: future in /home/raf/anaconda3/lib/python3.8/site-packages (from hyperopt) (0.18.2)\n",
            "Requirement already satisfied: tqdm in /home/raf/anaconda3/lib/python3.8/site-packages (from hyperopt) (4.59.0)\n",
            "Requirement already satisfied: decorator>=4.3.0 in /home/raf/.local/lib/python3.8/site-packages (from networkx>=2.2->hyperopt) (5.1.0)\n",
            "Installing collected packages: py4j, hyperopt\n",
            "Successfully installed hyperopt-0.2.7 py4j-0.10.9.5\n",
            "Note: you may need to restart the kernel to use updated packages.\n"
          ]
        }
      ],
      "source": [
        "#%pip install hyperopt"
      ]
    },
    {
      "cell_type": "code",
      "execution_count": 2,
      "metadata": {
        "colab": {
          "base_uri": "https://localhost:8080/"
        },
        "id": "-VCFrC1Y2sOD",
        "outputId": "ddd6f9db-8247-4a9b-ea5c-5a8f9db9855d"
      },
      "outputs": [
        {
          "name": "stdout",
          "output_type": "stream",
          "text": [
            "Версия Hyperopt : 0.2.7\n"
          ]
        }
      ],
      "source": [
        "#делаем импорт и выведем версию библиотеки\n",
        "from sklearn.model_selection import cross_val_score\n",
        "import hyperopt\n",
        "from hyperopt import hp, fmin, tpe, Trials\n",
        "# fmin - основная функция, она будет минимизировать наш функционал\n",
        "# tpe - алгоритм оптимизации\n",
        "# hp - включает набор методов для объявления пространства поиска гиперпараметров\n",
        "# trails - используется для логирования результатов\n",
        "\n",
        "print(\"Версия Hyperopt : {}\".format(hyperopt.__version__))"
      ]
    },
    {
      "cell_type": "code",
      "execution_count": 13,
      "metadata": {
        "id": "n3D2yeAs6ojW"
      },
      "outputs": [],
      "source": [
        "# зададим пространство поиска гиперпараметров\n",
        "space = {\n",
        "        'lr__penalty' : hp.choice(label='penalty', \n",
        "                        options=['l1', 'l2']),\n",
        "        'lr__C' : hp.loguniform(label='C', \n",
        "                        low=-4*np.log(10), \n",
        "                        high=2*np.log(10))\n",
        "        }"
      ]
    },
    {
      "cell_type": "markdown",
      "metadata": {
        "id": "DAeX2Fl9-40p"
      },
      "source": [
        "#### Здесь параметр регуляризации C выбирается из лог-равномерного распределения [- 4ln10, 2ln10], и может принимать значения [10^-4, 10^2], а тип регуляризации равновероятно выбирается из [l1, l2]. Можно выбрать и другие типы распределений, например, равномерное, или нормальное.\n",
        "#### Зададим функцию, которую будем оптимизировать. Она принимает на вход гиперпараметры, модель и данные, после чего возвращает точность на кросс-валидации:\n"
      ]
    },
    {
      "cell_type": "code",
      "execution_count": 14,
      "metadata": {
        "id": "j0R_60N1_o_o"
      },
      "outputs": [],
      "source": [
        "from sklearn.model_selection import cross_val_score, StratifiedKFold\n",
        "from sklearn.linear_model import LogisticRegression\n",
        "from sklearn.preprocessing import StandardScaler, OneHotEncoder\n",
        "from sklearn.pipeline import Pipeline\n",
        "from sklearn.impute import SimpleImputer\n",
        "from sklearn.compose import ColumnTransformer\n",
        "from hyperopt import hp, fmin, tpe, Trials, STATUS_OK\n",
        "from sklearn.model_selection import KFold\n",
        "\n",
        "def objective(params, pipeline,  X_train, y_train):\n",
        "    \"\"\"\n",
        "    Кросс-валидация с текущими гиперпараметрами\n",
        "\n",
        "    :params: гиперпараметры\n",
        "    :pipeline: модель\n",
        "    :X_train: матрица признаков\n",
        "    :y_train: вектор меток объектов\n",
        "    :return: средняя точность на кросс-валидации\n",
        "    \"\"\" \n",
        "\n",
        "    # задаём модели требуемые параметры    \n",
        "    pipeline.set_params(**params)\n",
        "\n",
        "    # задаём параметры кросс-валидации (стратифицированная 4-фолдовая с перемешиванием)\n",
        "    skf = StratifiedKFold(n_splits=4, shuffle=True, random_state=1)\n",
        "\n",
        "    # проводим кросс-валидацию  \n",
        "    score = cross_val_score(estimator=pipeline, X=X_train, y=y_train, \n",
        "                            scoring='roc_auc', cv=skf, n_jobs=-1)\n",
        "    # возвращаем результаты, которые записываются в Trials()\n",
        "    return   {'loss': -score.mean(), 'params': params, 'status': STATUS_OK}"
      ]
    },
    {
      "cell_type": "code",
      "execution_count": 15,
      "metadata": {
        "colab": {
          "base_uri": "https://localhost:8080/"
        },
        "id": "aPFwg9J-G812",
        "outputId": "7a7c3f9a-6bba-4bff-c704-834b9a3313ef"
      },
      "outputs": [
        {
          "name": "stdout",
          "output_type": "stream",
          "text": [
            "CPU times: user 3.79 s, sys: 42.4 ms, total: 3.83 s\n",
            "Wall time: 31 s\n",
            "f1_score на тестовом наборе: 0.79\n",
            "Наилучшие значения гиперпараметров: {'penalty': 'l2', 'solver': 'saga'}\n"
          ]
        },
        {
          "name": "stderr",
          "output_type": "stream",
          "text": [
            "/usr/local/lib/python3.7/dist-packages/sklearn/linear_model/_sag.py:354: ConvergenceWarning: The max_iter was reached which means the coef_ did not converge\n",
            "  ConvergenceWarning,\n"
          ]
        }
      ],
      "source": [
        "grid_search_hp = GridSearchCV(\n",
        "    estimator=linear_model.LogisticRegression(\n",
        "        random_state=42, #генератор случайных чисел\n",
        "        max_iter=50 #количество итераций на сходимость\n",
        "    ), \n",
        "    param_grid=param_grid, \n",
        "    cv=5, \n",
        "    n_jobs = -1\n",
        ")  \n",
        "%time grid_search.fit(X_train, y_train) \n",
        "print('f1_score на тестовом наборе: {:.2f}'.format(metrics.f1_score(y_test, y_test_pred)))\n",
        "print(\"Наилучшие значения гиперпараметров: {}\".format(grid_search.best_params_))"
      ]
    },
    {
      "cell_type": "markdown",
      "metadata": {
        "id": "WN6iZREbMuc1"
      },
      "source": [
        "## 2. Случайный лес\n",
        "## 2.1 Базовая оптимизация\n",
        "#### В sklearn все ансамблевые методы реализованы в модуле **ensemble**.\n",
        "#### В sklearn модель случайного леса для решения задачи классификации реализована в классе **RandomForestClassifier**.\n",
        "\n"
      ]
    },
    {
      "cell_type": "code",
      "execution_count": 24,
      "metadata": {
        "colab": {
          "base_uri": "https://localhost:8080/"
        },
        "id": "Nu_QkTrnXuVO",
        "outputId": "0c5d030b-1b55-4924-cd54-ec7efe14bd8b"
      },
      "outputs": [
        {
          "name": "stdout",
          "output_type": "stream",
          "text": [
            "0.80\n"
          ]
        }
      ],
      "source": [
        "#Создаем объект класса RandomForestClassifier (Случайный лес) \n",
        "rf_clf_full = ensemble.RandomForestClassifier(\n",
        "    n_estimators=500, #число деревьев\n",
        "    criterion='gini', #критерий эффективности\n",
        "    max_depth=8, #максимальная глубина дерева\n",
        "    max_features='sqrt', #число признаков из метода случайных подпространств\n",
        "    min_samples_leaf=10, #минимальное число объектов в листе\n",
        "    random_state=42 #генератор случайных чисел\n",
        ")\n",
        "#Обучаем модель \n",
        "rf_clf_full.fit(X_train, y_train)\n",
        "#Делаем предсказание класса\n",
        "y_test_pred = rf_clf_full.predict(X_test)\n",
        "#Выводим отчёт о метрике f1-score\n",
        "print(f'{metrics.f1_score(y_test, y_test_pred):.2f}')"
      ]
    },
    {
      "cell_type": "markdown",
      "metadata": {
        "id": "ZLPcMt90UPZn"
      },
      "source": [
        "#### Наша метрика немного f1-score улучшилась\n",
        "## 2.2 Продвинутая оптимизация (Hyperopt)"
      ]
    },
    {
      "cell_type": "code",
      "execution_count": 25,
      "metadata": {
        "colab": {
          "base_uri": "https://localhost:8080/"
        },
        "id": "ilRycXiAbAO-",
        "outputId": "89f7572a-8c93-4031-b19a-5a75fe623b60"
      },
      "outputs": [
        {
          "name": "stdout",
          "output_type": "stream",
          "text": [
            "Версия Hyperopt : 0.2\n"
          ]
        }
      ],
      "source": [
        "#делаем импорт и выведем версию библиотеки\n",
        "from sklearn.model_selection import cross_val_score\n",
        "import hyperopt\n",
        "from hyperopt import hp, fmin, tpe, Trials\n",
        "# fmin - основная функция, она будет минимизировать наш функционал\n",
        "# tpe - алгоритм оптимизации\n",
        "# hp - включает набор методов для объявления пространства поиска гиперпараметров\n",
        "# trails - используется для логирования результатов\n",
        "\n",
        "print(\"Версия Hyperopt : {}\".format(hyperopt.__version__))"
      ]
    },
    {
      "cell_type": "markdown",
      "metadata": {
        "id": "zDgfZPBebg9l"
      },
      "source": [
        "#### Настроим оптимизацию гиперпараметров для алгоритма случайного леса."
      ]
    },
    {
      "cell_type": "code",
      "execution_count": 26,
      "metadata": {
        "id": "c5sX290pbp7z"
      },
      "outputs": [],
      "source": [
        "# зададим пространство поиска гиперпараметров\n",
        "space={'n_estimators': hp.quniform('n_estimators', 100, 200, 1),\n",
        "       'max_depth' : hp.quniform('max_depth', 15, 26, 1),\n",
        "       'min_samples_leaf': hp.quniform('min_samples_leaf', 2, 10, 1)\n",
        "      }"
      ]
    },
    {
      "cell_type": "markdown",
      "metadata": {
        "id": "be48zq6LcEty"
      },
      "source": [
        "#### Интерфейс **Hyperopt** отличается от Grid или RandomizedSearch, поэтому нам нужно создать *функцию для минимизации*. Она должна принимать словарь значений гиперпараметров и возвращать значение целевой функции."
      ]
    },
    {
      "cell_type": "code",
      "execution_count": 27,
      "metadata": {
        "id": "FdIrGTs5cV0r"
      },
      "outputs": [],
      "source": [
        "# зафксируем random_state\n",
        "random_state = 42\n",
        "def hyperopt_rf(params, cv=5, X=X_train, y=y_train, random_state=random_state):\n",
        "    # функция получает комбинацию гиперпараметров в \"params\"\n",
        "    params = {'n_estimators': int(params['n_estimators']), \n",
        "              'max_depth': int(params['max_depth']), \n",
        "             'min_samples_leaf': int(params['min_samples_leaf'])\n",
        "              }\n",
        "  \n",
        "    # используем эту комбинацию для построения модели\n",
        "    model = ensemble.RandomForestClassifier(**params, random_state=random_state)\n",
        "\n",
        "    # обучаем модель\n",
        "    model.fit(X, y)\n",
        "    score = metrics.f1_score(y, model.predict(X))\n",
        "    \n",
        "    # обучать модель можно также с помощью кросс-валидации\n",
        "    # применим  cross validation с тем же количеством фолдов\n",
        "    # score = cross_val_score(model, X, y, cv=cv, scoring=\"f1\", n_jobs=-1).mean()\n",
        "\n",
        "    # метрику необходимо минимизировать, поэтому ставим знак минус\n",
        "    return -score"
      ]
    },
    {
      "cell_type": "markdown",
      "metadata": {
        "id": "Angt4hKodTGm"
      },
      "source": [
        "#### Начинаем подбор гиперпараметров"
      ]
    },
    {
      "cell_type": "code",
      "execution_count": 28,
      "metadata": {
        "colab": {
          "base_uri": "https://localhost:8080/"
        },
        "id": "i_YFZFyMdJSl",
        "outputId": "07ea688f-aa9f-4a9d-969e-5cd4ab7c16a5"
      },
      "outputs": [
        {
          "name": "stdout",
          "output_type": "stream",
          "text": [
            "100%|██████████| 20/20 [00:41<00:00,  2.07s/it, best loss: -0.9911233547597184]\n",
            "Наилучшие значения гиперпараметров {'max_depth': 24.0, 'min_samples_leaf': 2.0, 'n_estimators': 153.0}\n",
            "CPU times: user 40.9 s, sys: 80.1 ms, total: 41 s\n",
            "Wall time: 41.4 s\n"
          ]
        }
      ],
      "source": [
        "%%time\n",
        "\n",
        "trials = Trials() # используется для логирования результатов\n",
        "\n",
        "best=fmin(hyperopt_rf, # наша функция \n",
        "          space=space, # пространство гиперпараметров\n",
        "          algo=tpe.suggest, # алгоритм оптимизации, установлен по умолчанию, задавать необязательно\n",
        "          max_evals=20, # максимальное количество итераций\n",
        "          trials=trials, # логирование результатов\n",
        "          rstate=np.random.RandomState(random_state)# фиксируем для повторяемости результата\n",
        "         )\n",
        "print(\"Наилучшие значения гиперпараметров {}\".format(best))"
      ]
    },
    {
      "cell_type": "code",
      "execution_count": 29,
      "metadata": {
        "colab": {
          "base_uri": "https://localhost:8080/"
        },
        "id": "i8qJHlv1eMVu",
        "outputId": "a629e58d-be65-4669-d019-99b95f229800"
      },
      "outputs": [
        {
          "name": "stdout",
          "output_type": "stream",
          "text": [
            "f1_score на тестовом наборе: 0.82\n"
          ]
        }
      ],
      "source": [
        "# рассчитаем f1-score для тестовой выборки\n",
        "model = ensemble.RandomForestClassifier(\n",
        "    random_state=random_state, \n",
        "    n_estimators=int(best['n_estimators']),\n",
        "    max_depth=int(best['max_depth']),\n",
        "    min_samples_leaf=int(best['min_samples_leaf'])\n",
        ")\n",
        "model.fit(X_train, y_train)\n",
        "y_test_pred = model.predict(X_test)\n",
        "print('f1_score на тестовом наборе: {:.2f}'.format(metrics.f1_score(y_test, y_test_pred)))\n"
      ]
    },
    {
      "cell_type": "markdown",
      "metadata": {
        "id": "ExDJ86CmerBu"
      },
      "source": [
        "#### Метрика улучшилась и время уменьшилось.\n",
        "#### Продолжим поиск гиперпараметров, чтобы получить лучшие результаты.\n",
        "#### Для байесовских оптимизаторов это возможно, так как они ориентируются на прошлые результаты: предыдущие входные данные для целевой функции и результирующие потери.\n",
        "#### Hyperopt продолжит поиск с того места, где он остановился, если мы передадим ему объект Trials, который уже содержит информацию о предыдущих запусках.\n",
        "#### Увеличиваем max_evals до 50 (должен быть строго больше, чем на предыдущих итерациях) \n",
        "#### и используем старый trials"
      ]
    },
    {
      "cell_type": "code",
      "execution_count": 30,
      "metadata": {
        "colab": {
          "base_uri": "https://localhost:8080/"
        },
        "id": "UJUXUiyZgC5a",
        "outputId": "a6950888-69b5-47f7-fd58-aa0b35e82a12"
      },
      "outputs": [
        {
          "name": "stdout",
          "output_type": "stream",
          "text": [
            "100%|██████████| 30/30 [00:51<00:00,  1.72s/it, best loss: -0.9917304747320062]\n",
            "Наилучшие значения гиперпараметров {'max_depth': 22.0, 'min_samples_leaf': 2.0, 'n_estimators': 114.0}\n"
          ]
        }
      ],
      "source": [
        "best=fmin(hyperopt_rf, # наша функция \n",
        "          space=space, # пространство гиперпараметров\n",
        "          algo=tpe.suggest, # алгоритм оптимизации, установлен по умолчанию, задавать необязательно\n",
        "          max_evals=50, # максимальное количество итераций\n",
        "          trials=trials, # логирование результатов\n",
        "          rstate=np.random.RandomState(random_state)# фиксируем для повторяемости результата\n",
        "         )\n",
        "print(\"Наилучшие значения гиперпараметров {}\".format(best))"
      ]
    },
    {
      "cell_type": "code",
      "execution_count": 31,
      "metadata": {
        "colab": {
          "base_uri": "https://localhost:8080/"
        },
        "id": "QmVI1b6NgzMG",
        "outputId": "8c6c7599-47cb-4a2c-cb9f-653a08be91d0"
      },
      "outputs": [
        {
          "name": "stdout",
          "output_type": "stream",
          "text": [
            "f1_score на тестовом наборе: 0.82\n"
          ]
        }
      ],
      "source": [
        "# Вновь рассчитаем f1-score для тестовой выборки\n",
        "model = ensemble.RandomForestClassifier(\n",
        "    random_state=random_state, \n",
        "    n_estimators=int(best['n_estimators']),\n",
        "    max_depth=int(best['max_depth']),\n",
        "    min_samples_leaf=int(best['min_samples_leaf'])\n",
        ")\n",
        "model.fit(X_train, y_train)\n",
        "y_test_pred = model.predict(X_test)\n",
        "print('f1_score на тестовом наборе: {:.2f}'.format(metrics.f1_score(y_test, y_test_pred)))"
      ]
    },
    {
      "cell_type": "markdown",
      "metadata": {
        "id": "YO1oj24Eg9hy"
      },
      "source": [
        "#### Метрика не изменилась.\n",
        "## 2.3 Продвинутая оптимизация (Optuna)"
      ]
    },
    {
      "cell_type": "code",
      "execution_count": 33,
      "metadata": {
        "colab": {
          "base_uri": "https://localhost:8080/"
        },
        "id": "9TLQCGRYjbQY",
        "outputId": "cff3f4f0-e3ae-4f15-b162-fc8fb26882ba"
      },
      "outputs": [
        {
          "name": "stdout",
          "output_type": "stream",
          "text": [
            "Looking in indexes: https://pypi.org/simple, https://us-python.pkg.dev/colab-wheels/public/simple/\n",
            "Collecting optuna\n",
            "  Downloading optuna-2.10.1-py3-none-any.whl (308 kB)\n",
            "\u001b[K     |████████████████████████████████| 308 kB 7.5 MB/s \n",
            "\u001b[?25hRequirement already satisfied: numpy in /usr/local/lib/python3.7/dist-packages (from optuna) (1.21.6)\n",
            "Collecting colorlog\n",
            "  Downloading colorlog-6.6.0-py2.py3-none-any.whl (11 kB)\n",
            "Collecting cliff\n",
            "  Downloading cliff-3.10.1-py3-none-any.whl (81 kB)\n",
            "\u001b[K     |████████████████████████████████| 81 kB 11.8 MB/s \n",
            "\u001b[?25hRequirement already satisfied: sqlalchemy>=1.1.0 in /usr/local/lib/python3.7/dist-packages (from optuna) (1.4.37)\n",
            "Requirement already satisfied: tqdm in /usr/local/lib/python3.7/dist-packages (from optuna) (4.64.0)\n",
            "Requirement already satisfied: scipy!=1.4.0 in /usr/local/lib/python3.7/dist-packages (from optuna) (1.4.1)\n",
            "Collecting alembic\n",
            "  Downloading alembic-1.8.0-py3-none-any.whl (209 kB)\n",
            "\u001b[K     |████████████████████████████████| 209 kB 57.0 MB/s \n",
            "\u001b[?25hRequirement already satisfied: PyYAML in /usr/local/lib/python3.7/dist-packages (from optuna) (3.13)\n",
            "Requirement already satisfied: packaging>=20.0 in /usr/local/lib/python3.7/dist-packages (from optuna) (21.3)\n",
            "Collecting cmaes>=0.8.2\n",
            "  Downloading cmaes-0.8.2-py3-none-any.whl (15 kB)\n",
            "Requirement already satisfied: pyparsing!=3.0.5,>=2.0.2 in /usr/local/lib/python3.7/dist-packages (from packaging>=20.0->optuna) (3.0.9)\n",
            "Requirement already satisfied: greenlet!=0.4.17 in /usr/local/lib/python3.7/dist-packages (from sqlalchemy>=1.1.0->optuna) (1.1.2)\n",
            "Requirement already satisfied: importlib-metadata in /usr/local/lib/python3.7/dist-packages (from sqlalchemy>=1.1.0->optuna) (4.11.4)\n",
            "Requirement already satisfied: importlib-resources in /usr/local/lib/python3.7/dist-packages (from alembic->optuna) (5.7.1)\n",
            "Collecting Mako\n",
            "  Downloading Mako-1.2.0-py3-none-any.whl (78 kB)\n",
            "\u001b[K     |████████████████████████████████| 78 kB 8.7 MB/s \n",
            "\u001b[?25hCollecting pbr!=2.1.0,>=2.0.0\n",
            "  Downloading pbr-5.9.0-py2.py3-none-any.whl (112 kB)\n",
            "\u001b[K     |████████████████████████████████| 112 kB 57.5 MB/s \n",
            "\u001b[?25hCollecting cmd2>=1.0.0\n",
            "  Downloading cmd2-2.4.1-py3-none-any.whl (146 kB)\n",
            "\u001b[K     |████████████████████████████████| 146 kB 58.1 MB/s \n",
            "\u001b[?25hCollecting stevedore>=2.0.1\n",
            "  Downloading stevedore-3.5.0-py3-none-any.whl (49 kB)\n",
            "\u001b[K     |████████████████████████████████| 49 kB 7.7 MB/s \n",
            "\u001b[?25hCollecting autopage>=0.4.0\n",
            "  Downloading autopage-0.5.1-py3-none-any.whl (29 kB)\n",
            "Requirement already satisfied: PrettyTable>=0.7.2 in /usr/local/lib/python3.7/dist-packages (from cliff->optuna) (3.3.0)\n",
            "Requirement already satisfied: attrs>=16.3.0 in /usr/local/lib/python3.7/dist-packages (from cmd2>=1.0.0->cliff->optuna) (21.4.0)\n",
            "Requirement already satisfied: wcwidth>=0.1.7 in /usr/local/lib/python3.7/dist-packages (from cmd2>=1.0.0->cliff->optuna) (0.2.5)\n",
            "Collecting pyperclip>=1.6\n",
            "  Downloading pyperclip-1.8.2.tar.gz (20 kB)\n",
            "Requirement already satisfied: typing-extensions in /usr/local/lib/python3.7/dist-packages (from cmd2>=1.0.0->cliff->optuna) (4.1.1)\n",
            "Requirement already satisfied: zipp>=0.5 in /usr/local/lib/python3.7/dist-packages (from importlib-metadata->sqlalchemy>=1.1.0->optuna) (3.8.0)\n",
            "Requirement already satisfied: MarkupSafe>=0.9.2 in /usr/local/lib/python3.7/dist-packages (from Mako->alembic->optuna) (2.0.1)\n",
            "Building wheels for collected packages: pyperclip\n",
            "  Building wheel for pyperclip (setup.py) ... \u001b[?25l\u001b[?25hdone\n",
            "  Created wheel for pyperclip: filename=pyperclip-1.8.2-py3-none-any.whl size=11137 sha256=986c6d94da4152706051c79be0326f3c2e1e2e7d4e46708671552eecd4958383\n",
            "  Stored in directory: /root/.cache/pip/wheels/9f/18/84/8f69f8b08169c7bae2dde6bd7daf0c19fca8c8e500ee620a28\n",
            "Successfully built pyperclip\n",
            "Installing collected packages: pyperclip, pbr, stevedore, Mako, cmd2, autopage, colorlog, cmaes, cliff, alembic, optuna\n",
            "Successfully installed Mako-1.2.0 alembic-1.8.0 autopage-0.5.1 cliff-3.10.1 cmaes-0.8.2 cmd2-2.4.1 colorlog-6.6.0 optuna-2.10.1 pbr-5.9.0 pyperclip-1.8.2 stevedore-3.5.0\n"
          ]
        }
      ],
      "source": [
        "# Устанавливаем библиотеку\n",
        "#!pip install optuna"
      ]
    },
    {
      "cell_type": "code",
      "execution_count": 34,
      "metadata": {
        "colab": {
          "base_uri": "https://localhost:8080/"
        },
        "id": "Cm4zMzZkjLY1",
        "outputId": "09781f07-9314-488c-eb61-1f63f310abd1"
      },
      "outputs": [
        {
          "name": "stdout",
          "output_type": "stream",
          "text": [
            "Версия Optuna: 2.10.1\n"
          ]
        }
      ],
      "source": [
        "import optuna\n",
        "\n",
        "print(\"Версия Optuna: {}\".format(optuna.__version__))"
      ]
    },
    {
      "cell_type": "markdown",
      "metadata": {
        "id": "k1IpWXBDjx4L"
      },
      "source": [
        "#### Настроим оптимизацию гиперпараметров для алгоритма случайного леса:"
      ]
    },
    {
      "cell_type": "code",
      "execution_count": 35,
      "metadata": {
        "id": "jkwfxjWnj5Yf"
      },
      "outputs": [],
      "source": [
        "def optuna_rf(trial):\n",
        "  # задаем пространства поиска гиперпараметров\n",
        "  n_estimators = trial.suggest_int('n_estimators', 100, 200, 1)\n",
        "  max_depth = trial.suggest_int('max_depth', 10, 30, 1)\n",
        "  min_samples_leaf = trial.suggest_int('min_samples_leaf', 2, 10, 1)\n",
        "\n",
        "  # создаем модель\n",
        "  model = ensemble.RandomForestClassifier(n_estimators=n_estimators,\n",
        "                                          max_depth=max_depth,\n",
        "                                          min_samples_leaf=min_samples_leaf,\n",
        "                                          random_state=random_state)\n",
        "  # обучаем модель\n",
        "  model.fit(X_train, y_train)\n",
        "  score = metrics.f1_score(y_train, model.predict(X_train))\n",
        "\n",
        "  return score"
      ]
    },
    {
      "cell_type": "code",
      "execution_count": 36,
      "metadata": {
        "colab": {
          "base_uri": "https://localhost:8080/"
        },
        "id": "HlSKOkNjlKbC",
        "outputId": "5c080700-e8a5-4022-bbc2-a271e6920167"
      },
      "outputs": [
        {
          "name": "stderr",
          "output_type": "stream",
          "text": [
            "\u001b[32m[I 2022-06-29 22:29:09,873]\u001b[0m A new study created in memory with name: RandomForestClassifier\u001b[0m\n",
            "\u001b[32m[I 2022-06-29 22:29:11,284]\u001b[0m Trial 0 finished with value: 0.9274563820018367 and parameters: {'n_estimators': 113, 'max_depth': 13, 'min_samples_leaf': 6}. Best is trial 0 with value: 0.9274563820018367.\u001b[0m\n",
            "\u001b[32m[I 2022-06-29 22:29:13,520]\u001b[0m Trial 1 finished with value: 0.9283318084781945 and parameters: {'n_estimators': 178, 'max_depth': 18, 'min_samples_leaf': 7}. Best is trial 1 with value: 0.9283318084781945.\u001b[0m\n",
            "\u001b[32m[I 2022-06-29 22:29:15,507]\u001b[0m Trial 2 finished with value: 0.9380530973451326 and parameters: {'n_estimators': 161, 'max_depth': 11, 'min_samples_leaf': 3}. Best is trial 2 with value: 0.9380530973451326.\u001b[0m\n",
            "\u001b[32m[I 2022-06-29 22:29:17,791]\u001b[0m Trial 3 finished with value: 0.906536346976176 and parameters: {'n_estimators': 198, 'max_depth': 30, 'min_samples_leaf': 9}. Best is trial 2 with value: 0.9380530973451326.\u001b[0m\n",
            "\u001b[32m[I 2022-06-29 22:29:19,250]\u001b[0m Trial 4 finished with value: 0.917302410741532 and parameters: {'n_estimators': 119, 'max_depth': 22, 'min_samples_leaf': 8}. Best is trial 2 with value: 0.9380530973451326.\u001b[0m\n",
            "\u001b[32m[I 2022-06-29 22:29:21,450]\u001b[0m Trial 5 finished with value: 0.906087488528602 and parameters: {'n_estimators': 188, 'max_depth': 19, 'min_samples_leaf': 9}. Best is trial 2 with value: 0.9380530973451326.\u001b[0m\n",
            "\u001b[32m[I 2022-06-29 22:29:23,430]\u001b[0m Trial 6 finished with value: 0.8907254361799816 and parameters: {'n_estimators': 183, 'max_depth': 11, 'min_samples_leaf': 9}. Best is trial 2 with value: 0.9380530973451326.\u001b[0m\n",
            "\u001b[32m[I 2022-06-29 22:29:25,710]\u001b[0m Trial 7 finished with value: 0.9161053276178812 and parameters: {'n_estimators': 191, 'max_depth': 27, 'min_samples_leaf': 8}. Best is trial 2 with value: 0.9380530973451326.\u001b[0m\n",
            "\u001b[32m[I 2022-06-29 22:29:27,722]\u001b[0m Trial 8 finished with value: 0.9201101928374655 and parameters: {'n_estimators': 166, 'max_depth': 14, 'min_samples_leaf': 7}. Best is trial 2 with value: 0.9380530973451326.\u001b[0m\n",
            "\u001b[32m[I 2022-06-29 22:29:30,083]\u001b[0m Trial 9 finished with value: 0.922511485451761 and parameters: {'n_estimators': 197, 'max_depth': 15, 'min_samples_leaf': 7}. Best is trial 2 with value: 0.9380530973451326.\u001b[0m\n",
            "\u001b[32m[I 2022-06-29 22:29:31,760]\u001b[0m Trial 10 finished with value: 0.9325980392156863 and parameters: {'n_estimators': 143, 'max_depth': 10, 'min_samples_leaf': 2}. Best is trial 2 with value: 0.9380530973451326.\u001b[0m\n",
            "\u001b[32m[I 2022-06-29 22:29:33,407]\u001b[0m Trial 11 finished with value: 0.9335375191424197 and parameters: {'n_estimators': 141, 'max_depth': 10, 'min_samples_leaf': 2}. Best is trial 2 with value: 0.9380530973451326.\u001b[0m\n",
            "\u001b[32m[I 2022-06-29 22:29:35,107]\u001b[0m Trial 12 finished with value: 0.9325980392156863 and parameters: {'n_estimators': 143, 'max_depth': 10, 'min_samples_leaf': 2}. Best is trial 2 with value: 0.9380530973451326.\u001b[0m\n",
            "\u001b[32m[I 2022-06-29 22:29:37,217]\u001b[0m Trial 13 finished with value: 0.9526138795475391 and parameters: {'n_estimators': 157, 'max_depth': 16, 'min_samples_leaf': 4}. Best is trial 13 with value: 0.9526138795475391.\u001b[0m\n",
            "\u001b[32m[I 2022-06-29 22:29:39,355]\u001b[0m Trial 14 finished with value: 0.9535168195718654 and parameters: {'n_estimators': 160, 'max_depth': 16, 'min_samples_leaf': 4}. Best is trial 14 with value: 0.9535168195718654.\u001b[0m\n",
            "\u001b[32m[I 2022-06-29 22:29:41,532]\u001b[0m Trial 15 finished with value: 0.9584352078239609 and parameters: {'n_estimators': 157, 'max_depth': 23, 'min_samples_leaf': 4}. Best is trial 15 with value: 0.9584352078239609.\u001b[0m\n",
            "\u001b[32m[I 2022-06-29 22:29:43,241]\u001b[0m Trial 16 finished with value: 0.9437996334758704 and parameters: {'n_estimators': 127, 'max_depth': 23, 'min_samples_leaf': 5}. Best is trial 15 with value: 0.9584352078239609.\u001b[0m\n",
            "\u001b[32m[I 2022-06-29 22:29:45,640]\u001b[0m Trial 17 finished with value: 0.9553516819571866 and parameters: {'n_estimators': 169, 'max_depth': 24, 'min_samples_leaf': 4}. Best is trial 15 with value: 0.9584352078239609.\u001b[0m\n",
            "\u001b[32m[I 2022-06-29 22:29:47,976]\u001b[0m Trial 18 finished with value: 0.9469188529591215 and parameters: {'n_estimators': 171, 'max_depth': 25, 'min_samples_leaf': 5}. Best is trial 15 with value: 0.9584352078239609.\u001b[0m\n",
            "\u001b[32m[I 2022-06-29 22:29:49,409]\u001b[0m Trial 19 finished with value: 0.9587282176704371 and parameters: {'n_estimators': 101, 'max_depth': 22, 'min_samples_leaf': 4}. Best is trial 19 with value: 0.9587282176704371.\u001b[0m\n"
          ]
        },
        {
          "name": "stdout",
          "output_type": "stream",
          "text": [
            "CPU times: user 39.5 s, sys: 107 ms, total: 39.6 s\n",
            "Wall time: 39.5 s\n"
          ]
        }
      ],
      "source": [
        "%%time\n",
        "# cоздаем объект исследования\n",
        "# можем напрямую указать, что нам необходимо максимизировать метрику direction=\"maximize\"\n",
        "study = optuna.create_study(study_name=\"RandomForestClassifier\", direction=\"maximize\")\n",
        "# ищем лучшую комбинацию гиперпараметров 20 раз\n",
        "study.optimize(optuna_rf, n_trials=20)"
      ]
    },
    {
      "cell_type": "code",
      "execution_count": 37,
      "metadata": {
        "colab": {
          "base_uri": "https://localhost:8080/"
        },
        "id": "1IveyccUlgH3",
        "outputId": "93b28a55-5c6b-4be1-fec7-37d679af604a"
      },
      "outputs": [
        {
          "name": "stdout",
          "output_type": "stream",
          "text": [
            "f1_score на тестовом наборе: 0.82\n"
          ]
        }
      ],
      "source": [
        "# рассчитаем f1_score для тестовой выборки\n",
        "model = ensemble.RandomForestClassifier(**study.best_params,random_state=random_state, )\n",
        "model.fit(X_train, y_train)\n",
        "y_test_pred = model.predict(X_test)\n",
        "print('f1_score на тестовом наборе: {:.2f}'.format(metrics.f1_score(y_test, y_test_pred)))"
      ]
    },
    {
      "cell_type": "markdown",
      "metadata": {
        "id": "yQpWQoIYmHkZ"
      },
      "source": [
        "#### Метрика немного улучшилась\n",
        "#### Продолжим подбор, указав n_trials=30, которое добавится к предыдущим 20 итерациям"
      ]
    },
    {
      "cell_type": "code",
      "execution_count": 38,
      "metadata": {
        "colab": {
          "base_uri": "https://localhost:8080/"
        },
        "id": "FuFHCcwxm92w",
        "outputId": "0ef39ae5-11f4-43f2-ba4b-a16e77a5d630"
      },
      "outputs": [
        {
          "name": "stderr",
          "output_type": "stream",
          "text": [
            "\u001b[32m[I 2022-06-29 22:37:01,905]\u001b[0m Trial 20 finished with value: 0.9761613691931541 and parameters: {'n_estimators': 130, 'max_depth': 21, 'min_samples_leaf': 3}. Best is trial 20 with value: 0.9761613691931541.\u001b[0m\n",
            "\u001b[32m[I 2022-06-29 22:37:03,371]\u001b[0m Trial 21 finished with value: 0.974296205630355 and parameters: {'n_estimators': 100, 'max_depth': 21, 'min_samples_leaf': 3}. Best is trial 20 with value: 0.9761613691931541.\u001b[0m\n",
            "\u001b[32m[I 2022-06-29 22:37:04,841]\u001b[0m Trial 22 finished with value: 0.9776004909481435 and parameters: {'n_estimators': 100, 'max_depth': 20, 'min_samples_leaf': 3}. Best is trial 22 with value: 0.9776004909481435.\u001b[0m\n",
            "\u001b[32m[I 2022-06-29 22:37:06,350]\u001b[0m Trial 23 finished with value: 0.9773145309625996 and parameters: {'n_estimators': 101, 'max_depth': 20, 'min_samples_leaf': 3}. Best is trial 22 with value: 0.9776004909481435.\u001b[0m\n",
            "\u001b[32m[I 2022-06-29 22:37:07,977]\u001b[0m Trial 24 finished with value: 0.9776416539050536 and parameters: {'n_estimators': 110, 'max_depth': 19, 'min_samples_leaf': 3}. Best is trial 24 with value: 0.9776416539050536.\u001b[0m\n",
            "\u001b[32m[I 2022-06-29 22:37:09,524]\u001b[0m Trial 25 finished with value: 0.9725106902871106 and parameters: {'n_estimators': 108, 'max_depth': 18, 'min_samples_leaf': 3}. Best is trial 24 with value: 0.9776416539050536.\u001b[0m\n",
            "\u001b[32m[I 2022-06-29 22:37:11,012]\u001b[0m Trial 26 finished with value: 0.9437996334758704 and parameters: {'n_estimators': 110, 'max_depth': 19, 'min_samples_leaf': 5}. Best is trial 24 with value: 0.9776416539050536.\u001b[0m\n",
            "\u001b[32m[I 2022-06-29 22:37:12,857]\u001b[0m Trial 27 finished with value: 0.9917254060680356 and parameters: {'n_estimators': 121, 'max_depth': 26, 'min_samples_leaf': 2}. Best is trial 27 with value: 0.9917254060680356.\u001b[0m\n",
            "\u001b[32m[I 2022-06-29 22:37:14,768]\u001b[0m Trial 28 finished with value: 0.991421568627451 and parameters: {'n_estimators': 124, 'max_depth': 27, 'min_samples_leaf': 2}. Best is trial 27 with value: 0.9917254060680356.\u001b[0m\n",
            "\u001b[32m[I 2022-06-29 22:37:16,679]\u001b[0m Trial 29 finished with value: 0.9911124731841863 and parameters: {'n_estimators': 124, 'max_depth': 28, 'min_samples_leaf': 2}. Best is trial 27 with value: 0.9917254060680356.\u001b[0m\n",
            "\u001b[32m[I 2022-06-29 22:37:18,605]\u001b[0m Trial 30 finished with value: 0.9911124731841863 and parameters: {'n_estimators': 124, 'max_depth': 29, 'min_samples_leaf': 2}. Best is trial 27 with value: 0.9917254060680356.\u001b[0m\n",
            "\u001b[32m[I 2022-06-29 22:37:20,490]\u001b[0m Trial 31 finished with value: 0.9911179173047474 and parameters: {'n_estimators': 120, 'max_depth': 29, 'min_samples_leaf': 2}. Best is trial 27 with value: 0.9917254060680356.\u001b[0m\n",
            "\u001b[32m[I 2022-06-29 22:37:22,585]\u001b[0m Trial 32 finished with value: 0.9911124731841863 and parameters: {'n_estimators': 133, 'max_depth': 27, 'min_samples_leaf': 2}. Best is trial 27 with value: 0.9917254060680356.\u001b[0m\n",
            "\u001b[32m[I 2022-06-29 22:37:24,628]\u001b[0m Trial 33 finished with value: 0.9914163090128756 and parameters: {'n_estimators': 133, 'max_depth': 26, 'min_samples_leaf': 2}. Best is trial 27 with value: 0.9917254060680356.\u001b[0m\n",
            "\u001b[32m[I 2022-06-29 22:37:26,428]\u001b[0m Trial 34 finished with value: 0.9917254060680356 and parameters: {'n_estimators': 117, 'max_depth': 26, 'min_samples_leaf': 2}. Best is trial 27 with value: 0.9917254060680356.\u001b[0m\n",
            "\u001b[32m[I 2022-06-29 22:37:28,189]\u001b[0m Trial 35 finished with value: 0.9908088235294118 and parameters: {'n_estimators': 116, 'max_depth': 26, 'min_samples_leaf': 2}. Best is trial 27 with value: 0.9917254060680356.\u001b[0m\n",
            "\u001b[32m[I 2022-06-29 22:37:29,762]\u001b[0m Trial 36 finished with value: 0.9008567931456548 and parameters: {'n_estimators': 138, 'max_depth': 25, 'min_samples_leaf': 10}. Best is trial 27 with value: 0.9917254060680356.\u001b[0m\n",
            "\u001b[32m[I 2022-06-29 22:37:31,700]\u001b[0m Trial 37 finished with value: 0.9363914373088685 and parameters: {'n_estimators': 148, 'max_depth': 30, 'min_samples_leaf': 6}. Best is trial 27 with value: 0.9917254060680356.\u001b[0m\n",
            "\u001b[32m[I 2022-06-29 22:37:33,593]\u001b[0m Trial 38 finished with value: 0.9767441860465117 and parameters: {'n_estimators': 131, 'max_depth': 26, 'min_samples_leaf': 3}. Best is trial 27 with value: 0.9917254060680356.\u001b[0m\n",
            "\u001b[32m[I 2022-06-29 22:37:35,398]\u001b[0m Trial 39 finished with value: 0.9908144519289651 and parameters: {'n_estimators': 116, 'max_depth': 27, 'min_samples_leaf': 2}. Best is trial 27 with value: 0.9917254060680356.\u001b[0m\n",
            "\u001b[32m[I 2022-06-29 22:37:37,382]\u001b[0m Trial 40 finished with value: 0.9767299448867115 and parameters: {'n_estimators': 135, 'max_depth': 28, 'min_samples_leaf': 3}. Best is trial 27 with value: 0.9917254060680356.\u001b[0m\n",
            "\u001b[32m[I 2022-06-29 22:37:39,217]\u001b[0m Trial 41 finished with value: 0.9911179173047474 and parameters: {'n_estimators': 120, 'max_depth': 29, 'min_samples_leaf': 2}. Best is trial 27 with value: 0.9917254060680356.\u001b[0m\n",
            "\u001b[32m[I 2022-06-29 22:37:41,086]\u001b[0m Trial 42 finished with value: 0.9911179173047474 and parameters: {'n_estimators': 122, 'max_depth': 30, 'min_samples_leaf': 2}. Best is trial 27 with value: 0.9917254060680356.\u001b[0m\n",
            "\u001b[32m[I 2022-06-29 22:37:43,074]\u001b[0m Trial 43 finished with value: 0.9920294297976702 and parameters: {'n_estimators': 126, 'max_depth': 25, 'min_samples_leaf': 2}. Best is trial 43 with value: 0.9920294297976702.\u001b[0m\n",
            "\u001b[32m[I 2022-06-29 22:37:44,938]\u001b[0m Trial 44 finished with value: 0.9751914241960183 and parameters: {'n_estimators': 127, 'max_depth': 24, 'min_samples_leaf': 3}. Best is trial 43 with value: 0.9920294297976702.\u001b[0m\n",
            "\u001b[32m[I 2022-06-29 22:37:47,250]\u001b[0m Trial 45 finished with value: 0.991421568627451 and parameters: {'n_estimators': 147, 'max_depth': 25, 'min_samples_leaf': 2}. Best is trial 43 with value: 0.9920294297976702.\u001b[0m\n",
            "\u001b[32m[I 2022-06-29 22:37:50,497]\u001b[0m Trial 46 finished with value: 0.991421568627451 and parameters: {'n_estimators': 147, 'max_depth': 25, 'min_samples_leaf': 2}. Best is trial 43 with value: 0.9920294297976702.\u001b[0m\n",
            "\u001b[32m[I 2022-06-29 22:37:52,395]\u001b[0m Trial 47 finished with value: 0.9761321909424725 and parameters: {'n_estimators': 115, 'max_depth': 24, 'min_samples_leaf': 3}. Best is trial 43 with value: 0.9920294297976702.\u001b[0m\n",
            "\u001b[32m[I 2022-06-29 22:37:53,707]\u001b[0m Trial 48 finished with value: 0.9156479217603911 and parameters: {'n_estimators': 105, 'max_depth': 27, 'min_samples_leaf': 8}. Best is trial 43 with value: 0.9920294297976702.\u001b[0m\n",
            "\u001b[32m[I 2022-06-29 22:37:55,755]\u001b[0m Trial 49 finished with value: 0.9581167838581474 and parameters: {'n_estimators': 148, 'max_depth': 25, 'min_samples_leaf': 4}. Best is trial 43 with value: 0.9920294297976702.\u001b[0m\n"
          ]
        },
        {
          "name": "stdout",
          "output_type": "stream",
          "text": [
            "CPU times: user 55.8 s, sys: 129 ms, total: 55.9 s\n",
            "Wall time: 55.8 s\n"
          ]
        }
      ],
      "source": [
        "%%time\n",
        "study.optimize(optuna_rf, n_trials=30)"
      ]
    },
    {
      "cell_type": "code",
      "execution_count": 39,
      "metadata": {
        "colab": {
          "base_uri": "https://localhost:8080/"
        },
        "id": "IuX_sFK9neAL",
        "outputId": "8648284e-6603-4cd5-ebcf-953bbc3a02d5"
      },
      "outputs": [
        {
          "name": "stdout",
          "output_type": "stream",
          "text": [
            "f1_score на тестовом наборе: 0.82\n"
          ]
        }
      ],
      "source": [
        "# Опять рассчитаем f1_score для тестовой выборки\n",
        "model = ensemble.RandomForestClassifier(**study.best_params,random_state=random_state, )\n",
        "model.fit(X_train, y_train)\n",
        "y_test_pred = model.predict(X_test)\n",
        "print('f1_score на тестовом наборе: {:.2f}'.format(metrics.f1_score(y_test, y_test_pred)))"
      ]
    },
    {
      "cell_type": "markdown",
      "metadata": {
        "id": "POQHxTljnp7x"
      },
      "source": [
        "#### Метрика не улучшилась."
      ]
    }
  ],
  "metadata": {
    "colab": {
      "collapsed_sections": [],
      "name": "ML-7_Predicting a Biological Response.ipynb",
      "provenance": []
    },
    "kernelspec": {
      "display_name": "Python 3.8.8 ('base')",
      "language": "python",
      "name": "python3"
    },
    "language_info": {
      "codemirror_mode": {
        "name": "ipython",
        "version": 3
      },
      "file_extension": ".py",
      "mimetype": "text/x-python",
      "name": "python",
      "nbconvert_exporter": "python",
      "pygments_lexer": "ipython3",
      "version": "3.8.8"
    },
    "vscode": {
      "interpreter": {
        "hash": "e4bc85c487f081ebb4885acefea331b3a60873519c56f9675026fca7c7ba90a5"
      }
    }
  },
  "nbformat": 4,
  "nbformat_minor": 0
}
