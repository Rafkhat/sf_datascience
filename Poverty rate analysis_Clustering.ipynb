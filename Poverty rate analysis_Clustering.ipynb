{
 "cells": [
  {
   "cell_type": "markdown",
   "metadata": {},
   "source": [
    "# Определение уязвимых групп населения\n",
    "#### На основе данных о доходах, заболеваемости, социально-незащищенных слоях населения России и других экономических и демографических данных решаются задачи:\n",
    "    • кластеризации регионов России и определение, какие из них наиболее остро нуждаются в помощи бедным/неблагополучным слоям населения \n",
    "    • описание групп населения, сталкивающихся с бедностью \n",
    "    • исследование вопросов:\n",
    "        - влияет ли на уровень бедности в регионе число детей, пенсионеров и других социально-уязвимых групп?\n",
    "        - связаны ли уровень бедности/социального неблагополучия с производством и потреблением в регионе?\n",
    "        - какие еще зависимости можно пронаблюдать относительно социально незащищенных слоев населения? \n",
    "### 1 этап: загрузка данных из всех источников\n",
    "#### Результат работы с отдельным источником - датафрейм готовый к объединению по индексу - названиям регионов. "
   ]
  },
  {
   "cell_type": "code",
   "execution_count": 1,
   "metadata": {},
   "outputs": [],
   "source": [
    "import pandas as pd"
   ]
  },
  {
   "cell_type": "code",
   "execution_count": 2,
   "metadata": {},
   "outputs": [],
   "source": [
    "# Детская смертность 1\n",
    "# добавим параметры\n",
    "cmr_df = pd.read_excel('data/child_mortality_rural_1990_2021.xls', skiprows=2)"
   ]
  },
  {
   "cell_type": "code",
   "execution_count": 3,
   "metadata": {},
   "outputs": [],
   "source": [
    "pd.set_option(\"max_rows\", None)"
   ]
  },
  {
   "cell_type": "code",
   "execution_count": 4,
   "metadata": {
    "scrolled": true
   },
   "outputs": [
    {
     "data": {
      "text/html": [
       "<div>\n",
       "<style scoped>\n",
       "    .dataframe tbody tr th:only-of-type {\n",
       "        vertical-align: middle;\n",
       "    }\n",
       "\n",
       "    .dataframe tbody tr th {\n",
       "        vertical-align: top;\n",
       "    }\n",
       "\n",
       "    .dataframe thead th {\n",
       "        text-align: right;\n",
       "    }\n",
       "</style>\n",
       "<table border=\"1\" class=\"dataframe\">\n",
       "  <thead>\n",
       "    <tr style=\"text-align: right;\">\n",
       "      <th></th>\n",
       "      <th>Unnamed: 0</th>\n",
       "      <th>Unnamed: 1</th>\n",
       "      <th>Unnamed: 2</th>\n",
       "      <th>1990</th>\n",
       "      <th>1991</th>\n",
       "      <th>1992</th>\n",
       "      <th>1993</th>\n",
       "      <th>1994</th>\n",
       "      <th>1995</th>\n",
       "      <th>1996</th>\n",
       "      <th>...</th>\n",
       "      <th>2012</th>\n",
       "      <th>2013</th>\n",
       "      <th>2014</th>\n",
       "      <th>2015</th>\n",
       "      <th>2016</th>\n",
       "      <th>2017</th>\n",
       "      <th>2018</th>\n",
       "      <th>2019</th>\n",
       "      <th>2020</th>\n",
       "      <th>2021</th>\n",
       "    </tr>\n",
       "  </thead>\n",
       "  <tbody>\n",
       "    <tr>\n",
       "      <th>0</th>\n",
       "      <td>Российская Федерация</td>\n",
       "      <td>Оба пола</td>\n",
       "      <td>сельское население</td>\n",
       "      <td>11186.0</td>\n",
       "      <td>10943.0</td>\n",
       "      <td>10111.0</td>\n",
       "      <td>9840.0</td>\n",
       "      <td>9010.0</td>\n",
       "      <td>8582.0</td>\n",
       "      <td>7983.0</td>\n",
       "      <td>...</td>\n",
       "      <td>5463.0</td>\n",
       "      <td>5059.0</td>\n",
       "      <td>4681.0</td>\n",
       "      <td>4165.0</td>\n",
       "      <td>3568.0</td>\n",
       "      <td>3032.0</td>\n",
       "      <td>2521.0</td>\n",
       "      <td>2122.0</td>\n",
       "      <td>1916.0</td>\n",
       "      <td>1852.0</td>\n",
       "    </tr>\n",
       "    <tr>\n",
       "      <th>1</th>\n",
       "      <td>Центральный федеральный округ</td>\n",
       "      <td>Оба пола</td>\n",
       "      <td>сельское население</td>\n",
       "      <td>1615.0</td>\n",
       "      <td>1550.0</td>\n",
       "      <td>1361.0</td>\n",
       "      <td>1426.0</td>\n",
       "      <td>1347.0</td>\n",
       "      <td>1321.0</td>\n",
       "      <td>1200.0</td>\n",
       "      <td>...</td>\n",
       "      <td>625.0</td>\n",
       "      <td>608.0</td>\n",
       "      <td>487.0</td>\n",
       "      <td>490.0</td>\n",
       "      <td>426.0</td>\n",
       "      <td>347.0</td>\n",
       "      <td>291.0</td>\n",
       "      <td>211.0</td>\n",
       "      <td>228.0</td>\n",
       "      <td>212.0</td>\n",
       "    </tr>\n",
       "    <tr>\n",
       "      <th>2</th>\n",
       "      <td>Белгородская область</td>\n",
       "      <td>Оба пола</td>\n",
       "      <td>сельское население</td>\n",
       "      <td>103.0</td>\n",
       "      <td>92.0</td>\n",
       "      <td>75.0</td>\n",
       "      <td>79.0</td>\n",
       "      <td>80.0</td>\n",
       "      <td>72.0</td>\n",
       "      <td>72.0</td>\n",
       "      <td>...</td>\n",
       "      <td>43.0</td>\n",
       "      <td>48.0</td>\n",
       "      <td>41.0</td>\n",
       "      <td>42.0</td>\n",
       "      <td>36.0</td>\n",
       "      <td>34.0</td>\n",
       "      <td>33.0</td>\n",
       "      <td>16.0</td>\n",
       "      <td>22.0</td>\n",
       "      <td>20.0</td>\n",
       "    </tr>\n",
       "    <tr>\n",
       "      <th>3</th>\n",
       "      <td>Брянская область</td>\n",
       "      <td>Оба пола</td>\n",
       "      <td>сельское население</td>\n",
       "      <td>124.0</td>\n",
       "      <td>109.0</td>\n",
       "      <td>83.0</td>\n",
       "      <td>121.0</td>\n",
       "      <td>99.0</td>\n",
       "      <td>104.0</td>\n",
       "      <td>96.0</td>\n",
       "      <td>...</td>\n",
       "      <td>46.0</td>\n",
       "      <td>47.0</td>\n",
       "      <td>39.0</td>\n",
       "      <td>44.0</td>\n",
       "      <td>36.0</td>\n",
       "      <td>31.0</td>\n",
       "      <td>12.0</td>\n",
       "      <td>11.0</td>\n",
       "      <td>12.0</td>\n",
       "      <td>13.0</td>\n",
       "    </tr>\n",
       "    <tr>\n",
       "      <th>4</th>\n",
       "      <td>Владимирская область</td>\n",
       "      <td>Оба пола</td>\n",
       "      <td>сельское население</td>\n",
       "      <td>80.0</td>\n",
       "      <td>58.0</td>\n",
       "      <td>60.0</td>\n",
       "      <td>62.0</td>\n",
       "      <td>46.0</td>\n",
       "      <td>50.0</td>\n",
       "      <td>47.0</td>\n",
       "      <td>...</td>\n",
       "      <td>30.0</td>\n",
       "      <td>31.0</td>\n",
       "      <td>23.0</td>\n",
       "      <td>31.0</td>\n",
       "      <td>28.0</td>\n",
       "      <td>17.0</td>\n",
       "      <td>22.0</td>\n",
       "      <td>15.0</td>\n",
       "      <td>10.0</td>\n",
       "      <td>14.0</td>\n",
       "    </tr>\n",
       "  </tbody>\n",
       "</table>\n",
       "<p>5 rows × 35 columns</p>\n",
       "</div>"
      ],
      "text/plain": [
       "                          Unnamed: 0 Unnamed: 1          Unnamed: 2     1990  \\\n",
       "0               Российская Федерация   Оба пола  сельское население  11186.0   \n",
       "1      Центральный федеральный округ   Оба пола  сельское население   1615.0   \n",
       "2               Белгородская область   Оба пола  сельское население    103.0   \n",
       "3                   Брянская область   Оба пола  сельское население    124.0   \n",
       "4               Владимирская область   Оба пола  сельское население     80.0   \n",
       "\n",
       "      1991     1992    1993    1994    1995    1996  ...    2012    2013  \\\n",
       "0  10943.0  10111.0  9840.0  9010.0  8582.0  7983.0  ...  5463.0  5059.0   \n",
       "1   1550.0   1361.0  1426.0  1347.0  1321.0  1200.0  ...   625.0   608.0   \n",
       "2     92.0     75.0    79.0    80.0    72.0    72.0  ...    43.0    48.0   \n",
       "3    109.0     83.0   121.0    99.0   104.0    96.0  ...    46.0    47.0   \n",
       "4     58.0     60.0    62.0    46.0    50.0    47.0  ...    30.0    31.0   \n",
       "\n",
       "     2014    2015    2016    2017    2018    2019    2020    2021  \n",
       "0  4681.0  4165.0  3568.0  3032.0  2521.0  2122.0  1916.0  1852.0  \n",
       "1   487.0   490.0   426.0   347.0   291.0   211.0   228.0   212.0  \n",
       "2    41.0    42.0    36.0    34.0    33.0    16.0    22.0    20.0  \n",
       "3    39.0    44.0    36.0    31.0    12.0    11.0    12.0    13.0  \n",
       "4    23.0    31.0    28.0    17.0    22.0    15.0    10.0    14.0  \n",
       "\n",
       "[5 rows x 35 columns]"
      ]
     },
     "execution_count": 4,
     "metadata": {},
     "output_type": "execute_result"
    }
   ],
   "source": [
    "cmr_df.head()"
   ]
  },
  {
   "cell_type": "code",
   "execution_count": 261,
   "metadata": {},
   "outputs": [],
   "source": [
    "# удалим лишние колонки Оба пола и Селское население - везде\n",
    "cmr_df.drop(['Unnamed: 1', 'Unnamed: 2'], axis = 1, inplace=True)"
   ]
  },
  {
   "cell_type": "code",
   "execution_count": 262,
   "metadata": {},
   "outputs": [],
   "source": [
    "cmr_df.rename(columns={'Unnamed: 0':\"Region\"}, inplace=True)"
   ]
  },
  {
   "cell_type": "code",
   "execution_count": 263,
   "metadata": {
    "scrolled": false
   },
   "outputs": [
    {
     "name": "stdout",
     "output_type": "stream",
     "text": [
      "Уникальных значений: 117\n",
      "<class 'pandas.core.frame.DataFrame'>\n",
      "RangeIndex: 119 entries, 0 to 118\n",
      "Data columns (total 1 columns):\n",
      " #   Column  Non-Null Count  Dtype \n",
      "---  ------  --------------  ----- \n",
      " 0   Region  119 non-null    object\n",
      "dtypes: object(1)\n",
      "memory usage: 1.1+ KB\n"
     ]
    }
   ],
   "source": [
    "print(\"Уникальных значений:\", cmr_df.Region.nunique())\n",
    "cmr_df.loc[:, ['Region']].info()"
   ]
  },
  {
   "cell_type": "code",
   "execution_count": 264,
   "metadata": {},
   "outputs": [],
   "source": [
    "def fix_regions(x):\n",
    "    if pd.isnull(x):\n",
    "        return x\n",
    "    if x == 'nan':\n",
    "        return None  \n",
    "    if 'округ' in x and 'автономный' not in x:\n",
    "        return None\n",
    "    if 'Таймырский' in x:\n",
    "        return None\n",
    "    if 'федеральный округ' in x:\n",
    "        return None\n",
    "    if 'Федерация' in x:\n",
    "        return None\n",
    "    if 'район' in x:\n",
    "        return None\n",
    "    if 'Эвенкийский' in x:\n",
    "        return None\n",
    "    if 'Чеченская и Ингушская Республики' in x:\n",
    "        return None    \n",
    "    if 'Москва' in x:\n",
    "        return 'Москва'\n",
    "    if 'Санкт-Петербург' in x:\n",
    "        return 'Санкт-Петербург'\n",
    "    if 'Севастополь' in x:\n",
    "        return 'Севастополь'\n",
    "    if 'в том числе' in x:\n",
    "        return None\n",
    "    if 'Кемеровская' in x:\n",
    "        return 'Кемеровская область - Кузбасс'\n",
    "    if 'Чувашская' in x:\n",
    "        return 'Чувашская Республика - Чувашия'\n",
    "    \n",
    "    x = x.replace('автономный округ', 'АО')\n",
    "    \n",
    "    if '(' in x:\n",
    "        x = x[:x.find('(')] \n",
    "        \n",
    "    return x"
   ]
  },
  {
   "cell_type": "code",
   "execution_count": 265,
   "metadata": {},
   "outputs": [],
   "source": [
    "# применим условие для очистки названий регионов\n",
    "cmr_df.Region = cmr_df.Region.apply(fix_regions)\n",
    "# удалим лишние пробелы в названиях\n",
    "cmr_df.Region = cmr_df['Region'].str.strip()\n",
    "# убираем нерелевантные регионы\n",
    "cmr_df = cmr_df.dropna(subset = ['Region'])\n",
    "# назначим название области индексом\n",
    "cmr_df.set_index('Region', inplace=True)"
   ]
  },
  {
   "cell_type": "code",
   "execution_count": 266,
   "metadata": {
    "scrolled": true
   },
   "outputs": [
    {
     "name": "stdout",
     "output_type": "stream",
     "text": [
      "Уникальных значений: 85\n"
     ]
    }
   ],
   "source": [
    "print(\"Уникальных значений:\", cmr_df.index.nunique())"
   ]
  },
  {
   "cell_type": "code",
   "execution_count": 267,
   "metadata": {},
   "outputs": [
    {
     "name": "stdout",
     "output_type": "stream",
     "text": [
      "Уникальных значений: 85\n"
     ]
    }
   ],
   "source": [
    "# Детская смертность 2\n",
    "# добавим параметры\n",
    "cmu_df = pd.read_excel('C:/Users/Chichvarina Marina/Downloads/soc_rus_data/child_mortality_urban_1990_2021.xls', skiprows=2)\n",
    "\n",
    "# удалим лишние колонки Оба пола и Селское население - везде\n",
    "cmu_df.drop(['Unnamed: 1', 'Unnamed: 2'], axis = 1, inplace=True)\n",
    "# переименуем для удобства колонку с названиями регионов\n",
    "cmu_df.rename(columns={'Unnamed: 0':\"Region\"}, inplace=True)\n",
    "# применим условие для очистки названий регионов\n",
    "cmu_df.Region = cmu_df.Region.apply(fix_regions)\n",
    "cmu_df = cmu_df.dropna(subset = ['Region'])\n",
    "# удалим лишние пробелы в названиях\n",
    "cmu_df.Region = cmu_df['Region'].str.strip()\n",
    "# назначим название области индексом\n",
    "cmu_df.set_index('Region', inplace=True)\n",
    "\n",
    "print(\"Уникальных значений:\", cmu_df.index.nunique())"
   ]
  },
  {
   "cell_type": "code",
   "execution_count": 268,
   "metadata": {},
   "outputs": [
    {
     "name": "stdout",
     "output_type": "stream",
     "text": [
      "Уникальных значений: 85\n"
     ]
    }
   ],
   "source": [
    "# валовый региональный продукт\n",
    "grp_df = pd.read_excel('C:/Users/Chichvarina Marina/Downloads/soc_rus_data/gross_regional_product_1996_2020.xls', skiprows=2)\n",
    "\n",
    "# переименуем для удобства колонку с названиями регионов\n",
    "grp_df.rename(columns={'Unnamed: 0':\"Region\"}, inplace=True)\n",
    "# применим условие для очистки названий регионов\n",
    "grp_df.Region = grp_df.Region.apply(fix_regions)\n",
    "grp_df = grp_df.dropna(subset = ['Region'])\n",
    "# удалим лишние пробелы в названиях\n",
    "grp_df.Region = grp_df['Region'].str.strip()\n",
    "# назначим название области индексом\n",
    "grp_df.set_index('Region', inplace=True)\n",
    "\n",
    "print(\"Уникальных значений:\", grp_df.index.nunique())"
   ]
  },
  {
   "cell_type": "code",
   "execution_count": 269,
   "metadata": {
    "scrolled": true
   },
   "outputs": [
    {
     "data": {
      "text/plain": [
       "set()"
      ]
     },
     "execution_count": 269,
     "metadata": {},
     "output_type": "execute_result"
    }
   ],
   "source": [
    "set(cmr_df.index).difference(set(cmu_df.index))"
   ]
  },
  {
   "cell_type": "code",
   "execution_count": 270,
   "metadata": {},
   "outputs": [],
   "source": [
    "# денежные доходы населения\n",
    "cri_df = pd.read_excel('C:/Users/Chichvarina Marina/Downloads/soc_rus_data/cash_real_income_wages_2015_2020.xlsx')"
   ]
  },
  {
   "cell_type": "code",
   "execution_count": 271,
   "metadata": {},
   "outputs": [
    {
     "data": {
      "text/html": [
       "<div>\n",
       "<style scoped>\n",
       "    .dataframe tbody tr th:only-of-type {\n",
       "        vertical-align: middle;\n",
       "    }\n",
       "\n",
       "    .dataframe tbody tr th {\n",
       "        vertical-align: top;\n",
       "    }\n",
       "\n",
       "    .dataframe thead th {\n",
       "        text-align: right;\n",
       "    }\n",
       "</style>\n",
       "<table border=\"1\" class=\"dataframe\">\n",
       "  <thead>\n",
       "    <tr style=\"text-align: right;\">\n",
       "      <th></th>\n",
       "      <th>region</th>\n",
       "      <th>2015</th>\n",
       "      <th>2016</th>\n",
       "      <th>2017</th>\n",
       "      <th>2018</th>\n",
       "      <th>2019</th>\n",
       "      <th>2020</th>\n",
       "    </tr>\n",
       "  </thead>\n",
       "  <tbody>\n",
       "    <tr>\n",
       "      <th>0</th>\n",
       "      <td>Российская Федерация</td>\n",
       "      <td>302541.0</td>\n",
       "      <td>30865.0</td>\n",
       "      <td>31897.0</td>\n",
       "      <td>33266.0</td>\n",
       "      <td>35338.0</td>\n",
       "      <td>36073.0</td>\n",
       "    </tr>\n",
       "    <tr>\n",
       "      <th>1</th>\n",
       "      <td>Центральный\\n федеральный округ</td>\n",
       "      <td>38832.0</td>\n",
       "      <td>40200.0</td>\n",
       "      <td>41897.0</td>\n",
       "      <td>44009.0</td>\n",
       "      <td>47252.0</td>\n",
       "      <td>48226.0</td>\n",
       "    </tr>\n",
       "    <tr>\n",
       "      <th>2</th>\n",
       "      <td>Белгородская область</td>\n",
       "      <td>28043.0</td>\n",
       "      <td>29799.0</td>\n",
       "      <td>30342.0</td>\n",
       "      <td>30778.0</td>\n",
       "      <td>32352.0</td>\n",
       "      <td>32841.0</td>\n",
       "    </tr>\n",
       "    <tr>\n",
       "      <th>3</th>\n",
       "      <td>Брянская область</td>\n",
       "      <td>23428.0</td>\n",
       "      <td>24006.0</td>\n",
       "      <td>25107.0</td>\n",
       "      <td>26585.0</td>\n",
       "      <td>28371.0</td>\n",
       "      <td>28596.0</td>\n",
       "    </tr>\n",
       "    <tr>\n",
       "      <th>4</th>\n",
       "      <td>Владимирская область</td>\n",
       "      <td>22712.0</td>\n",
       "      <td>22365.0</td>\n",
       "      <td>23554.0</td>\n",
       "      <td>23539.0</td>\n",
       "      <td>25358.0</td>\n",
       "      <td>25922.0</td>\n",
       "    </tr>\n",
       "  </tbody>\n",
       "</table>\n",
       "</div>"
      ],
      "text/plain": [
       "                            region      2015     2016     2017     2018  \\\n",
       "0             Российская Федерация  302541.0  30865.0  31897.0  33266.0   \n",
       "1  Центральный\\n федеральный округ   38832.0  40200.0  41897.0  44009.0   \n",
       "2             Белгородская область   28043.0  29799.0  30342.0  30778.0   \n",
       "3                 Брянская область   23428.0  24006.0  25107.0  26585.0   \n",
       "4             Владимирская область   22712.0  22365.0  23554.0  23539.0   \n",
       "\n",
       "      2019     2020  \n",
       "0  35338.0  36073.0  \n",
       "1  47252.0  48226.0  \n",
       "2  32352.0  32841.0  \n",
       "3  28371.0  28596.0  \n",
       "4  25358.0  25922.0  "
      ]
     },
     "execution_count": 271,
     "metadata": {},
     "output_type": "execute_result"
    }
   ],
   "source": [
    "cri_df.head()"
   ]
  },
  {
   "cell_type": "code",
   "execution_count": 272,
   "metadata": {
    "scrolled": true
   },
   "outputs": [
    {
     "name": "stdout",
     "output_type": "stream",
     "text": [
      "Уникальных значений: 85\n"
     ]
    }
   ],
   "source": [
    "# денежные доходы населения\n",
    "cri_df = pd.read_excel('C:/Users/Chichvarina Marina/Downloads/soc_rus_data/cash_real_income_wages_2015_2020.xlsx')\n",
    "\n",
    "# переименуем для удобства колонку с названиями регионов\n",
    "cri_df.rename(columns={'region':\"Region\"}, inplace=True)\n",
    "# применим условие для очистки названий регионов\n",
    "cri_df.Region = cri_df.Region.apply(fix_regions)\n",
    "# удалим /n в названиях регионов\n",
    "cri_df['Region'].replace(r'\\s+|\\\\n', ' ', regex=True, inplace=True) \n",
    "cri_df = cri_df.dropna(subset = ['Region'])\n",
    "# удалим лишние пробелы в названиях\n",
    "cri_df.Region = cri_df['Region'].str.strip()\n",
    "# назначим название области индексом\n",
    "cri_df.set_index('Region', inplace=True)\n",
    "\n",
    "print(\"Уникальных значений:\", cri_df.index.nunique())"
   ]
  },
  {
   "cell_type": "code",
   "execution_count": 273,
   "metadata": {
    "scrolled": false
   },
   "outputs": [
    {
     "data": {
      "text/plain": [
       "set()"
      ]
     },
     "execution_count": 273,
     "metadata": {},
     "output_type": "execute_result"
    }
   ],
   "source": [
    "set(cri_df.index).difference(set(cmr_df.index))"
   ]
  },
  {
   "cell_type": "code",
   "execution_count": 189,
   "metadata": {},
   "outputs": [
    {
     "data": {
      "text/html": [
       "<div>\n",
       "<style scoped>\n",
       "    .dataframe tbody tr th:only-of-type {\n",
       "        vertical-align: middle;\n",
       "    }\n",
       "\n",
       "    .dataframe tbody tr th {\n",
       "        vertical-align: top;\n",
       "    }\n",
       "\n",
       "    .dataframe thead th {\n",
       "        text-align: right;\n",
       "    }\n",
       "</style>\n",
       "<table border=\"1\" class=\"dataframe\">\n",
       "  <thead>\n",
       "    <tr style=\"text-align: right;\">\n",
       "      <th></th>\n",
       "      <th>region</th>\n",
       "      <th>total</th>\n",
       "      <th>18_30</th>\n",
       "      <th>31_40</th>\n",
       "      <th>41_50</th>\n",
       "      <th>51_60</th>\n",
       "      <th>60_</th>\n",
       "      <th>date</th>\n",
       "    </tr>\n",
       "  </thead>\n",
       "  <tbody>\n",
       "    <tr>\n",
       "      <th>0</th>\n",
       "      <td>Российская Федерация</td>\n",
       "      <td>11640873.0</td>\n",
       "      <td>550895.0</td>\n",
       "      <td>766054.0</td>\n",
       "      <td>1030652.0</td>\n",
       "      <td>2135436.0</td>\n",
       "      <td>7157836.0</td>\n",
       "      <td>2017-01-01</td>\n",
       "    </tr>\n",
       "    <tr>\n",
       "      <th>1</th>\n",
       "      <td>Центральный федеральный округ</td>\n",
       "      <td>3420310.0</td>\n",
       "      <td>118579.0</td>\n",
       "      <td>172662.0</td>\n",
       "      <td>257484.0</td>\n",
       "      <td>598102.0</td>\n",
       "      <td>2273483.0</td>\n",
       "      <td>2017-01-01</td>\n",
       "    </tr>\n",
       "    <tr>\n",
       "      <th>2</th>\n",
       "      <td>Белгородская область</td>\n",
       "      <td>223030.0</td>\n",
       "      <td>6318.0</td>\n",
       "      <td>10383.0</td>\n",
       "      <td>16596.0</td>\n",
       "      <td>37444.0</td>\n",
       "      <td>152289.0</td>\n",
       "      <td>2017-01-01</td>\n",
       "    </tr>\n",
       "    <tr>\n",
       "      <th>3</th>\n",
       "      <td>Брянская область</td>\n",
       "      <td>110418.0</td>\n",
       "      <td>4215.0</td>\n",
       "      <td>6568.0</td>\n",
       "      <td>10230.0</td>\n",
       "      <td>21481.0</td>\n",
       "      <td>67924.0</td>\n",
       "      <td>2017-01-01</td>\n",
       "    </tr>\n",
       "    <tr>\n",
       "      <th>4</th>\n",
       "      <td>Владимирская область</td>\n",
       "      <td>133352.0</td>\n",
       "      <td>4454.0</td>\n",
       "      <td>6811.0</td>\n",
       "      <td>9606.0</td>\n",
       "      <td>23322.0</td>\n",
       "      <td>89159.0</td>\n",
       "      <td>2017-01-01</td>\n",
       "    </tr>\n",
       "  </tbody>\n",
       "</table>\n",
       "</div>"
      ],
      "text/plain": [
       "                          region       total     18_30     31_40      41_50  \\\n",
       "0           Российская Федерация  11640873.0  550895.0  766054.0  1030652.0   \n",
       "1  Центральный федеральный округ   3420310.0  118579.0  172662.0   257484.0   \n",
       "2           Белгородская область    223030.0    6318.0   10383.0    16596.0   \n",
       "3               Брянская область    110418.0    4215.0    6568.0    10230.0   \n",
       "4           Владимирская область    133352.0    4454.0    6811.0     9606.0   \n",
       "\n",
       "       51_60        60_        date  \n",
       "0  2135436.0  7157836.0  2017-01-01  \n",
       "1   598102.0  2273483.0  2017-01-01  \n",
       "2    37444.0   152289.0  2017-01-01  \n",
       "3    21481.0    67924.0  2017-01-01  \n",
       "4    23322.0    89159.0  2017-01-01  "
      ]
     },
     "execution_count": 189,
     "metadata": {},
     "output_type": "execute_result"
    }
   ],
   "source": [
    "# инвалидность - взять столбец всего и сгруппировать по годам\n",
    "df = pd.read_csv('C:/Users/Chichvarina Marina/Downloads/soc_rus_data/disabled_total_by_age_2017_2022.csv')\n",
    "df.head()"
   ]
  },
  {
   "cell_type": "code",
   "execution_count": null,
   "metadata": {},
   "outputs": [],
   "source": [
    "#домохозяйства - один показатель размер жилой площади \n",
    "df = pd.read_excel('C:/Users/Chichvarina Marina/Downloads/soc_rus_data/housing_2020.xlsx')\n",
    "df.head()"
   ]
  },
  {
   "cell_type": "code",
   "execution_count": null,
   "metadata": {},
   "outputs": [],
   "source": [
    "# Заболеваемость - Всего и несколько самых ключевых \n",
    "\n",
    "df = pd.read_excel('C:/Users/Chichvarina Marina/Downloads/soc_rus_data/morbidity_2005_2020_age_disease.xls', skiprows=2)\n",
    "\n",
    "print(df['Unnamed: 1'].unique())\n",
    "df.head()"
   ]
  },
  {
   "cell_type": "code",
   "execution_count": null,
   "metadata": {},
   "outputs": [],
   "source": [
    "# население -  \n",
    "df = pd.read_excel('C:/Users/Chichvarina Marina/Downloads/soc_rus_data/population.xlsx')\n",
    "df.head(5)"
   ]
  },
  {
   "cell_type": "code",
   "execution_count": null,
   "metadata": {},
   "outputs": [],
   "source": [
    "# малоимущее население по регионам всего\n",
    "df = pd.read_csv('C:/Users/Chichvarina Marina/Downloads/soc_rus_data/poverty_percent_by_regions_1992_2020.csv')\n",
    "df.head()"
   ]
  },
  {
   "cell_type": "code",
   "execution_count": null,
   "metadata": {},
   "outputs": [],
   "source": [
    "# малоимущее население по группам - даст три признака - малоимущие дети, старики и люди трудоспособного возраста\n",
    "df = pd.read_excel('C:/Users/Chichvarina Marina/Downloads/soc_rus_data/poverty_socdem_2017.xls')\n",
    "df.head()"
   ]
  },
  {
   "cell_type": "code",
   "execution_count": null,
   "metadata": {},
   "outputs": [],
   "source": [
    "df = pd.read_csv('C:/Users/Chichvarina Marina/Downloads/soc_rus_data/regional_production_2017_2020.csv')\n",
    "\n",
    "print(df['production_field'].nunique()) # всего 133 различных категории - нужен творческий подход\n",
    "df[140:160]"
   ]
  },
  {
   "cell_type": "code",
   "execution_count": null,
   "metadata": {},
   "outputs": [],
   "source": [
    "# розничная торговля на душу населения рублей\n",
    "\n",
    "df = pd.read_excel('C:/Users/Chichvarina Marina/Downloads/soc_rus_data/retail_turnover_per_capita_2000_2021.xls', skiprows=2)\n",
    "\n",
    "df.head()"
   ]
  },
  {
   "cell_type": "code",
   "execution_count": null,
   "metadata": {},
   "outputs": [],
   "source": [
    "# расходы на социальную политику\n",
    "\n",
    "wes_df = pd.read_excel('C:/Users/Chichvarina Marina/Downloads/soc_rus_data/welfare_expense_share_2015_2020.xlsx')\n",
    "\n",
    "# выявим строки содержащие федеральный округ, федерация и район\n",
    "fo = wes_df[wes_df['region'].str.contains('федеральный округ|Федерация|район')].index\n",
    "wes_df.drop(fo, axis = 0, inplace=True)\n",
    "\n",
    "# назначим название области индексом\n",
    "wes_df.rename(columns={'region':\"Регион\"}, inplace=True)\n",
    "wes_df[\"Регион\"] = wes_df[\"Регион\"].str.strip()\n",
    "wes_df.set_index('Регион', inplace=True)\n",
    "\n",
    "print(wes_df.shape)\n",
    "wes_df.head()"
   ]
  },
  {
   "cell_type": "code",
   "execution_count": null,
   "metadata": {},
   "outputs": [],
   "source": [
    "# этап 2 объединение"
   ]
  },
  {
   "cell_type": "code",
   "execution_count": null,
   "metadata": {},
   "outputs": [],
   "source": [
    "# среднее за 5 лет - детская смертность в сельской местности\n",
    "cmr_mean = cmr_df.loc[:,'2016':'2020'].mean(axis=1)\n",
    "cmr_mean"
   ]
  },
  {
   "cell_type": "code",
   "execution_count": null,
   "metadata": {},
   "outputs": [],
   "source": [
    "# среднее за 5 лет - расходы на социальную политику в процентах\n",
    "wes_mean = wes_df.loc[:,2016:2020].mean(axis=1)\n",
    "wes_mean"
   ]
  },
  {
   "cell_type": "code",
   "execution_count": null,
   "metadata": {},
   "outputs": [],
   "source": [
    "result = pd.concat([cmr_mean, wes_mean], axis=1).rename(columns={0:'Смертность,чел', 1:'Социальная политика,%'})\n",
    "result"
   ]
  },
  {
   "cell_type": "code",
   "execution_count": null,
   "metadata": {},
   "outputs": [],
   "source": [
    "set(result.index).difference(set(cmr_df.index))"
   ]
  },
  {
   "cell_type": "code",
   "execution_count": null,
   "metadata": {},
   "outputs": [],
   "source": [
    "# для упрощения и ускорения процесса удалим регионы в которых остались пропуски\n",
    "result.dropna(inplace=True)"
   ]
  },
  {
   "cell_type": "code",
   "execution_count": null,
   "metadata": {},
   "outputs": [],
   "source": [
    "# этап 3 сравнение различных алгоритмов кластеризации, подбор параметров"
   ]
  },
  {
   "cell_type": "code",
   "execution_count": null,
   "metadata": {},
   "outputs": [],
   "source": [
    "# импортируем библиотеки numpy и sklearn\n",
    "import numpy as np\n",
    "from sklearn.mixture import GaussianMixture\n",
    "\n",
    "gm_clustering = GaussianMixture(n_components=4, random_state=42)\n",
    "\n",
    "# обучаем модель \n",
    "gm_clustering.fit(result)\n",
    "\n",
    "# для матрицы X получаем предсказания, к какому кластеру принадлежат объекты\n",
    "gm_prediction = gm_clustering.predict(result)\n",
    "gm_prediction"
   ]
  },
  {
   "cell_type": "code",
   "execution_count": null,
   "metadata": {},
   "outputs": [],
   "source": [
    "gm_res = pd.Series(gm_prediction)\n",
    "gm_res.index = result.index\n",
    "result[gm_res==3]\n",
    "# в третий кластер попал только один регион - при высоких расходах на социальную политику - высокая смертность"
   ]
  },
  {
   "cell_type": "code",
   "execution_count": null,
   "metadata": {},
   "outputs": [],
   "source": [
    "result[gm_res==0] # нулевой кластер - низкая смертность"
   ]
  },
  {
   "cell_type": "code",
   "execution_count": null,
   "metadata": {},
   "outputs": [],
   "source": [
    "result[gm_res==2]"
   ]
  },
  {
   "cell_type": "code",
   "execution_count": null,
   "metadata": {},
   "outputs": [],
   "source": [
    "# этап 4 представление результатов, визуализация\n",
    "import matplotlib.pyplot as plt\n",
    "\n",
    "plt.rcParams['figure.figsize'] = 12, 12\n",
    "plt.scatter(result['Смертность,чел'], result['Социальная политика,%'], c=gm_prediction, alpha=0.5, linewidths=7)\n",
    "plt.show()"
   ]
  },
  {
   "cell_type": "code",
   "execution_count": null,
   "metadata": {},
   "outputs": [],
   "source": [
    "# попробуем другой алгоритм и другое количество кластеров\n",
    "\n",
    "from sklearn.cluster import KMeans\n",
    "\n",
    "kmeans = KMeans(5, random_state=0)\n",
    "labels = kmeans.fit(result).predict(result)\n",
    "\n",
    "plt.scatter(result['Смертность,чел'], result['Социальная политика,%'], c=labels, alpha=0.5, linewidths=7);"
   ]
  },
  {
   "cell_type": "code",
   "execution_count": null,
   "metadata": {},
   "outputs": [],
   "source": [
    "import folium"
   ]
  },
  {
   "cell_type": "code",
   "execution_count": null,
   "metadata": {},
   "outputs": [],
   "source": [
    "m = folium.Map(location=[63.391522, 96.328125], zoom_start=3)"
   ]
  },
  {
   "cell_type": "code",
   "execution_count": null,
   "metadata": {},
   "outputs": [],
   "source": [
    "m"
   ]
  },
  {
   "cell_type": "code",
   "execution_count": null,
   "metadata": {},
   "outputs": [],
   "source": [
    "# загружаем данные по индексам регионов\n",
    "import json\n",
    "\n",
    "with open('RF_admin/admin_level_4.geojson', encoding='utf-8') as json_file:\n",
    "    map_data = json.load(json_file)\n",
    "\n",
    "region_id = []\n",
    "reg_list = map_data['features'][1:]\n",
    "for el in reg_list:\n",
    "    region_id.append((el['name'], el['id'])) \n",
    "\n",
    "region_id_df = pd.DataFrame(region_id)\n",
    "\n",
    "region_id_df.columns = ['region', 'region_id']\n",
    "region_id_df.head()"
   ]
  },
  {
   "cell_type": "code",
   "execution_count": null,
   "metadata": {},
   "outputs": [],
   "source": [
    "region_id_df.rename(columns={'region':\"Регион\"}, inplace=True)\n",
    "region_id_df[\"Регион\"] = region_id_df[\"Регион\"].str.strip()\n",
    "region_id_df.set_index('Регион', inplace=True)\n",
    "region_id_df.head()"
   ]
  },
  {
   "cell_type": "code",
   "execution_count": null,
   "metadata": {},
   "outputs": [],
   "source": [
    "gm_res_df = pd.DataFrame()\n",
    "gm_res_df['cluster'] = gm_res"
   ]
  },
  {
   "cell_type": "code",
   "execution_count": null,
   "metadata": {},
   "outputs": [],
   "source": [
    "gm_res_df.head()"
   ]
  },
  {
   "cell_type": "code",
   "execution_count": null,
   "metadata": {},
   "outputs": [],
   "source": [
    "result_map = region_id_df.join(gm_res_df, how='inner')\n",
    "result_map"
   ]
  },
  {
   "cell_type": "code",
   "execution_count": null,
   "metadata": {},
   "outputs": [],
   "source": [
    "rel_ = folium.Choropleth(\n",
    "       geo_data = 'RF_admin/admin_level_4.geojson', \n",
    "       name = 'Кластеризация по регионам',\n",
    "       data = result_map,\n",
    "       columns=['region_id', 'cluster'], \n",
    "       key_on='id',\n",
    "       bins = 4,\n",
    "       fill_color='BuGn',\n",
    "       nan_fill_color='darkblue',\n",
    "       nan_fill_opacity=0.5,\n",
    "       fill_opacity=0.7,\n",
    "       line_opacity=0.2,\n",
    "       legend_name= 'Кластеризация по регионам',\n",
    "       highlight = True,\n",
    "       show = False\n",
    ")"
   ]
  },
  {
   "cell_type": "code",
   "execution_count": null,
   "metadata": {},
   "outputs": [],
   "source": [
    "rel_.add_to(m);"
   ]
  },
  {
   "cell_type": "code",
   "execution_count": null,
   "metadata": {},
   "outputs": [],
   "source": [
    "m"
   ]
  }
 ],
 "metadata": {
  "kernelspec": {
   "display_name": "Python 3.8.8 ('base')",
   "language": "python",
   "name": "python3"
  },
  "language_info": {
   "codemirror_mode": {
    "name": "ipython",
    "version": 3
   },
   "file_extension": ".py",
   "mimetype": "text/x-python",
   "name": "python",
   "nbconvert_exporter": "python",
   "pygments_lexer": "ipython3",
   "version": "3.8.8"
  },
  "vscode": {
   "interpreter": {
    "hash": "e4bc85c487f081ebb4885acefea331b3a60873519c56f9675026fca7c7ba90a5"
   }
  }
 },
 "nbformat": 4,
 "nbformat_minor": 2
}
